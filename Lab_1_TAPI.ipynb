{
  "nbformat": 4,
  "nbformat_minor": 0,
  "metadata": {
    "colab": {
      "name": "Lab_1_TAPI.ipynb",
      "provenance": [],
      "authorship_tag": "ABX9TyOeVTJ0w+gCmJfiIxtuyb0R",
      "include_colab_link": true
    },
    "kernelspec": {
      "name": "python3",
      "display_name": "Python 3"
    },
    "language_info": {
      "name": "python"
    }
  },
  "cells": [
    {
      "cell_type": "markdown",
      "metadata": {
        "id": "view-in-github",
        "colab_type": "text"
      },
      "source": [
        "<a href=\"https://colab.research.google.com/github/Hambach-AA/File_manager_for_studying/blob/master/Lab_1_TAPI.ipynb\" target=\"_parent\"><img src=\"https://colab.research.google.com/assets/colab-badge.svg\" alt=\"Open In Colab\"/></a>"
      ]
    },
    {
      "cell_type": "markdown",
      "source": [
        "Установка библиотеку алгоритма Apriori"
      ],
      "metadata": {
        "id": "yr8tQwwJ9YAC"
      }
    },
    {
      "cell_type": "code",
      "source": [
        "!pip install apyori"
      ],
      "metadata": {
        "colab": {
          "base_uri": "https://localhost:8080/"
        },
        "id": "erlResSx9WfI",
        "outputId": "78cd0478-3d91-455c-8eed-0fc4b815a6ee"
      },
      "execution_count": null,
      "outputs": [
        {
          "output_type": "stream",
          "name": "stdout",
          "text": [
            "Requirement already satisfied: apyori in /usr/local/lib/python3.7/dist-packages (1.1.2)\n"
          ]
        }
      ]
    },
    {
      "cell_type": "markdown",
      "source": [
        "Импорт библеотек"
      ],
      "metadata": {
        "id": "lp6F_weC9D7l"
      }
    },
    {
      "cell_type": "code",
      "execution_count": null,
      "metadata": {
        "id": "GJPz6zMk8vcs"
      },
      "outputs": [],
      "source": [
        "from itertools import combinations\n",
        "import pandas as pd\n",
        "import numpy as np\n",
        "import time\n",
        "import matplotlib.pyplot as plt\n",
        "import apyori"
      ]
    },
    {
      "cell_type": "markdown",
      "source": [
        "Выполнение поиска частных наборов"
      ],
      "metadata": {
        "id": "dcwGlIaxB_r-"
      }
    },
    {
      "cell_type": "code",
      "source": [
        "def apyori_fun(dataset, min_supports):\n",
        "  result = []\n",
        "  times = []\n",
        "  for i in min_supports:\n",
        "    time_1 = time.time()\n",
        "    result.append(list(apyori.apriori(dataset, min_support = i, min_length = 2, min_confidence = 0.2, min_lift = 2)))\n",
        "    time_2 = time.time()\n",
        "    times.append(time_2 - time_1)\n",
        "  return result, times"
      ],
      "metadata": {
        "id": "uB2qQgWCCSwS"
      },
      "execution_count": null,
      "outputs": []
    },
    {
      "cell_type": "markdown",
      "source": [
        "Вывод получивщихся результатов"
      ],
      "metadata": {
        "id": "nzBOWjt-ETnf"
      }
    },
    {
      "cell_type": "code",
      "source": [
        "def results(result, min_supports):\n",
        "  for i in range(len(result)):\n",
        "    print(min_supports[i])\n",
        "    print(\"<---->\")\n",
        "    for j in range(len(result[i])):\n",
        "      print(\"{}, {}\".format(result[i][j].items, round(result[i][j].support,4)))\n",
        "    print(\"<---->\")"
      ],
      "metadata": {
        "id": "32DZr1P9FJZ2"
      },
      "execution_count": null,
      "outputs": []
    },
    {
      "cell_type": "markdown",
      "source": [
        "Построение графика"
      ],
      "metadata": {
        "id": "Rzz5PE88J8QY"
      }
    },
    {
      "cell_type": "code",
      "source": [
        "def chart(result, min_supports, times):\n",
        "  \n",
        "  support = []\n",
        "  for i in min_supports:\n",
        "    support.append(str(i))\n",
        "\n",
        "  quantity = []\n",
        "  for i in range(len(result)):\n",
        "    quantity.append(len(result[i]))\n",
        "\n",
        "  plt.bar(support, times)\n",
        "  plt.xlabel(\"Значение поддержки\")\n",
        "  plt.ylabel(\"Время работы\")\n",
        "  plt.show()\n",
        "\n",
        "  plt.bar(support, quantity)\n",
        "  plt.xlabel(\"Значение поддержки\")\n",
        "  plt.ylabel(\"Количество наборов\")\n",
        "  plt.show()"
      ],
      "metadata": {
        "id": "YYYYRkFVHZGT"
      },
      "execution_count": null,
      "outputs": []
    },
    {
      "cell_type": "markdown",
      "source": [
        "**Первый набор данных**"
      ],
      "metadata": {
        "id": "GQMPU3F8MYv-"
      }
    },
    {
      "cell_type": "markdown",
      "source": [
        "Подключение данных"
      ],
      "metadata": {
        "id": "25Fx6XxRMEL9"
      }
    },
    {
      "cell_type": "code",
      "source": [
        "dataset = pd.read_csv('Market_Basket_Optimisation.csv', header = None)\n",
        "dataset.fillna(method = 'ffill',axis = 1, inplace = True)\n",
        "dataset.head()\n",
        "dataset = dataset.to_numpy()"
      ],
      "metadata": {
        "id": "__aErEBfLcpf"
      },
      "execution_count": null,
      "outputs": []
    },
    {
      "cell_type": "markdown",
      "source": [
        "Установка пароговых значений"
      ],
      "metadata": {
        "id": "-hzQ9uNcMHXI"
      }
    },
    {
      "cell_type": "code",
      "source": [
        "min_supports = [0.003, 0.005, 0.009, 0.01, 0.02]"
      ],
      "metadata": {
        "id": "4J5N91RDLdG_"
      },
      "execution_count": null,
      "outputs": []
    },
    {
      "cell_type": "markdown",
      "source": [
        "Поиск и вывод результатов"
      ],
      "metadata": {
        "id": "PLQ96D4kMSd0"
      }
    },
    {
      "cell_type": "code",
      "source": [
        "result, times = apyori_fun(dataset, min_supports)\n",
        "results(result, min_supports)\n",
        "chart(result, min_supports, times)"
      ],
      "metadata": {
        "colab": {
          "base_uri": "https://localhost:8080/",
          "height": 1000
        },
        "id": "1E0wOyM0LrYu",
        "outputId": "f687e069-d9c7-4921-8ae2-f7a9baae5e22"
      },
      "execution_count": null,
      "outputs": [
        {
          "output_type": "stream",
          "name": "stdout",
          "text": [
            "0.003\n",
            "<---->\n",
            "frozenset({'burgers', 'almonds'}), 0.0052\n",
            "frozenset({'spaghetti', 'bacon'}), 0.0032\n",
            "frozenset({'milk', 'black tea'}), 0.0043\n",
            "frozenset({'blueberries', 'spaghetti'}), 0.0035\n",
            "frozenset({'french fries', 'body spray'}), 0.0043\n",
            "frozenset({'ham', 'burgers'}), 0.0056\n",
            "frozenset({'cereals', 'milk'}), 0.0071\n",
            "frozenset({'chicken', 'light cream'}), 0.0045\n",
            "frozenset({'chocolate', 'tomato sauce'}), 0.0051\n",
            "frozenset({'eggs', 'cider'}), 0.0043\n",
            "frozenset({'milk', 'cider'}), 0.0033\n",
            "frozenset({'mushroom cream sauce', 'escalope'}), 0.0057\n",
            "frozenset({'pasta', 'escalope'}), 0.0059\n",
            "frozenset({'extra dark chocolate', 'mineral water'}), 0.0057\n",
            "frozenset({'green tea', 'flax seed'}), 0.0031\n",
            "frozenset({'fresh tuna', 'pancakes'}), 0.0051\n",
            "frozenset({'honey', 'fromage blanc'}), 0.0033\n",
            "frozenset({'parmesan cheese', 'frozen vegetables'}), 0.0055\n",
            "frozenset({'shrimp', 'frozen vegetables'}), 0.0167\n",
            "frozenset({'tomatoes', 'frozen vegetables'}), 0.0161\n",
            "frozenset({'grated cheese', 'ground beef'}), 0.0113\n",
            "frozenset({'spaghetti', 'green beans'}), 0.0035\n",
            "frozenset({'ground beef', 'herb & pepper'}), 0.016\n",
            "frozenset({'ground beef', 'light cream'}), 0.0033\n",
            "frozenset({'ground beef', 'olive oil'}), 0.0141\n",
            "frozenset({'ground beef', 'pepper'}), 0.0065\n",
            "frozenset({'ground beef', 'rice'}), 0.0044\n",
            "frozenset({'ground beef', 'salmon'}), 0.0089\n",
            "frozenset({'ground beef', 'spaghetti'}), 0.0392\n",
            "frozenset({'ground beef', 'tomato sauce'}), 0.0053\n",
            "frozenset({'olive oil', 'light cream'}), 0.0032\n",
            "frozenset({'light cream', 'pancakes'}), 0.0035\n",
            "frozenset({'light mayo', 'pancakes'}), 0.0055\n",
            "frozenset({'milk', 'meatballs'}), 0.0055\n",
            "frozenset({'soup', 'milk'}), 0.0152\n",
            "frozenset({'milk', 'whole wheat pasta'}), 0.0099\n",
            "frozenset({'nonfat milk', 'mineral water'}), 0.0051\n",
            "frozenset({'olive oil', 'whole wheat pasta'}), 0.008\n",
            "frozenset({'shrimp', 'pasta'}), 0.0051\n",
            "frozenset({'spaghetti', 'pepper'}), 0.0099\n",
            "frozenset({'spaghetti', 'red wine'}), 0.0103\n",
            "frozenset({'spaghetti', 'strong cheese'}), 0.0037\n",
            "frozenset({'spaghetti', 'tomato sauce'}), 0.0063\n",
            "frozenset({'milk', 'mineral water', 'avocado'}), 0.0033\n",
            "frozenset({'spaghetti', 'milk', 'avocado'}), 0.0033\n",
            "frozenset({'brownies', 'eggs', 'mineral water'}), 0.0036\n",
            "frozenset({'burgers', 'cake', 'chocolate'}), 0.0031\n",
            "frozenset({'burgers', 'milk', 'cake'}), 0.0037\n",
            "frozenset({'burgers', 'milk', 'chocolate'}), 0.0055\n",
            "frozenset({'shrimp', 'burgers', 'chocolate'}), 0.0031\n",
            "frozenset({'spaghetti', 'burgers', 'chocolate'}), 0.0064\n",
            "frozenset({'burgers', 'turkey', 'chocolate'}), 0.0031\n",
            "frozenset({'french fries', 'burgers', 'eggs'}), 0.0091\n",
            "frozenset({'burgers', 'green tea', 'eggs'}), 0.006\n",
            "frozenset({'ground beef', 'burgers', 'eggs'}), 0.004\n",
            "frozenset({'burgers', 'eggs', 'pancakes'}), 0.0041\n",
            "frozenset({'turkey', 'burgers', 'eggs'}), 0.0039\n",
            "frozenset({'burgers', 'milk', 'french fries'}), 0.0056\n",
            "frozenset({'burgers', 'french fries', 'spaghetti'}), 0.0056\n",
            "frozenset({'burgers', 'frozen vegetables', 'mineral water'}), 0.0049\n",
            "frozenset({'burgers', 'green tea', 'milk'}), 0.0037\n",
            "frozenset({'ground beef', 'burgers', 'milk'}), 0.0041\n",
            "frozenset({'ground beef', 'burgers', 'mineral water'}), 0.0053\n",
            "frozenset({'ground beef', 'burgers', 'spaghetti'}), 0.0055\n",
            "frozenset({'burgers', 'milk', 'mineral water'}), 0.0069\n",
            "frozenset({'burgers', 'milk', 'spaghetti'}), 0.0064\n",
            "frozenset({'burgers', 'milk', 'turkey'}), 0.0032\n",
            "frozenset({'whole wheat rice', 'burgers', 'milk'}), 0.0031\n",
            "frozenset({'burgers', 'olive oil', 'mineral water'}), 0.0033\n",
            "frozenset({'burgers', 'spaghetti', 'pancakes'}), 0.0044\n",
            "frozenset({'whole wheat rice', 'burgers', 'spaghetti'}), 0.0031\n",
            "frozenset({'spaghetti', 'cake', 'chocolate'}), 0.0052\n",
            "frozenset({'turkey', 'cake', 'eggs'}), 0.0032\n",
            "frozenset({'cake', 'mineral water', 'frozen smoothie'}), 0.0032\n",
            "frozenset({'cake', 'tomatoes', 'frozen vegetables'}), 0.0031\n",
            "frozenset({'cake', 'green tea', 'pancakes'}), 0.0031\n",
            "frozenset({'ground beef', 'cake', 'spaghetti'}), 0.0037\n",
            "frozenset({'cake', 'milk', 'mineral water'}), 0.0064\n",
            "frozenset({'cake', 'olive oil', 'mineral water'}), 0.0032\n",
            "frozenset({'soup', 'cake', 'mineral water'}), 0.0032\n",
            "frozenset({'cake', 'olive oil', 'spaghetti'}), 0.0031\n",
            "frozenset({'cake', 'spaghetti', 'pancakes'}), 0.0041\n",
            "frozenset({'cake', 'tomatoes', 'spaghetti'}), 0.0035\n",
            "frozenset({'cereals', 'spaghetti', 'ground beef'}), 0.0031\n",
            "frozenset({'cereals', 'milk', 'mineral water'}), 0.0036\n",
            "frozenset({'cereals', 'spaghetti', 'mineral water'}), 0.0035\n",
            "frozenset({'chicken', 'french fries', 'chocolate'}), 0.0037\n",
            "frozenset({'chicken', 'green tea', 'chocolate'}), 0.004\n",
            "frozenset({'chicken', 'milk', 'chocolate'}), 0.0045\n",
            "frozenset({'chicken', 'mineral water', 'chocolate'}), 0.0076\n",
            "frozenset({'chicken', 'milk', 'eggs'}), 0.0041\n",
            "frozenset({'chicken', 'milk', 'french fries'}), 0.0033\n",
            "frozenset({'chicken', 'french fries', 'spaghetti'}), 0.0039\n",
            "frozenset({'ground beef', 'chicken', 'milk'}), 0.0039\n",
            "frozenset({'ground beef', 'chicken', 'spaghetti'}), 0.0048\n",
            "frozenset({'chicken', 'milk', 'mineral water'}), 0.0067\n",
            "frozenset({'chicken', 'milk', 'olive oil'}), 0.0036\n",
            "frozenset({'chicken', 'milk', 'pancakes'}), 0.0031\n",
            "frozenset({'chicken', 'milk', 'spaghetti'}), 0.0055\n",
            "frozenset({'chicken', 'olive oil', 'mineral water'}), 0.0036\n",
            "frozenset({'chicken', 'mineral water', 'pancakes'}), 0.0048\n",
            "frozenset({'soup', 'chicken', 'mineral water'}), 0.0032\n",
            "frozenset({'chicken', 'tomatoes', 'mineral water'}), 0.0032\n",
            "frozenset({'chicken', 'olive oil', 'spaghetti'}), 0.0035\n",
            "frozenset({'chicken', 'spaghetti', 'pancakes'}), 0.0032\n",
            "frozenset({'chocolate', 'french fries', 'cookies'}), 0.004\n",
            "frozenset({'chocolate', 'cookies', 'spaghetti'}), 0.0031\n",
            "frozenset({'cooking oil', 'chocolate', 'eggs'}), 0.0045\n",
            "frozenset({'cooking oil', 'chocolate', 'milk'}), 0.0044\n",
            "frozenset({'chocolate', 'milk', 'eggs'}), 0.0092\n",
            "frozenset({'chocolate', 'olive oil', 'eggs'}), 0.004\n",
            "frozenset({'chocolate', 'milk', 'escalope'}), 0.0031\n",
            "frozenset({'chocolate', 'mineral water', 'escalope'}), 0.0056\n",
            "frozenset({'chocolate', 'olive oil', 'french fries'}), 0.0031\n",
            "frozenset({'shrimp', 'chocolate', 'french fries'}), 0.0033\n",
            "frozenset({'chocolate', 'milk', 'frozen smoothie'}), 0.0041\n",
            "frozenset({'ground beef', 'chocolate', 'frozen vegetables'}), 0.0057\n",
            "frozenset({'chocolate', 'milk', 'frozen vegetables'}), 0.008\n",
            "frozenset({'chocolate', 'olive oil', 'frozen vegetables'}), 0.004\n",
            "frozenset({'shrimp', 'chocolate', 'frozen vegetables'}), 0.0053\n",
            "frozenset({'chocolate', 'frozen vegetables', 'spaghetti'}), 0.0079\n",
            "frozenset({'chocolate', 'tomatoes', 'frozen vegetables'}), 0.0035\n",
            "frozenset({'ground beef', 'chocolate', 'herb & pepper'}), 0.004\n",
            "frozenset({'ground beef', 'chocolate', 'milk'}), 0.0061\n",
            "frozenset({'ground beef', 'chocolate', 'mineral water'}), 0.0109\n",
            "frozenset({'ground beef', 'chocolate', 'olive oil'}), 0.0033\n",
            "frozenset({'ground beef', 'chocolate', 'spaghetti'}), 0.0092\n",
            "frozenset({'chocolate', 'milk', 'mineral water'}), 0.014\n",
            "frozenset({'chocolate', 'milk', 'olive oil'}), 0.0052\n",
            "frozenset({'shrimp', 'chocolate', 'milk'}), 0.0055\n",
            "frozenset({'soup', 'chocolate', 'milk'}), 0.004\n",
            "frozenset({'chocolate', 'milk', 'spaghetti'}), 0.0109\n",
            "frozenset({'chocolate', 'milk', 'turkey'}), 0.0035\n",
            "frozenset({'chocolate', 'olive oil', 'mineral water'}), 0.0083\n",
            "frozenset({'soup', 'chocolate', 'mineral water'}), 0.0056\n",
            "frozenset({'chocolate', 'olive oil', 'pancakes'}), 0.0033\n",
            "frozenset({'chocolate', 'olive oil', 'spaghetti'}), 0.0071\n",
            "frozenset({'chocolate', 'spaghetti', 'salmon'}), 0.004\n",
            "frozenset({'shrimp', 'chocolate', 'spaghetti'}), 0.0064\n",
            "frozenset({'chocolate', 'tomatoes', 'spaghetti'}), 0.0049\n",
            "frozenset({'french fries', 'green tea', 'cookies'}), 0.0047\n",
            "frozenset({'cooking oil', 'milk', 'eggs'}), 0.004\n",
            "frozenset({'cooking oil', 'eggs', 'mineral water'}), 0.0064\n",
            "frozenset({'cooking oil', 'spaghetti', 'eggs'}), 0.0041\n",
            "frozenset({'ground beef', 'cooking oil', 'spaghetti'}), 0.0048\n",
            "frozenset({'cooking oil', 'mineral water', 'pancakes'}), 0.0047\n",
            "frozenset({'cooking oil', 'spaghetti', 'mineral water'}), 0.0076\n",
            "frozenset({'cottage cheese', 'spaghetti', 'mineral water'}), 0.0033\n",
            "frozenset({'turkey', 'french fries', 'eggs'}), 0.0039\n",
            "frozenset({'ground beef', 'frozen vegetables', 'eggs'}), 0.0044\n",
            "frozenset({'frozen vegetables', 'milk', 'eggs'}), 0.0073\n",
            "frozenset({'shrimp', 'frozen vegetables', 'eggs'}), 0.0037\n",
            "frozenset({'frozen vegetables', 'tomatoes', 'eggs'}), 0.0031\n",
            "frozenset({'grated cheese', 'eggs', 'mineral water'}), 0.0044\n",
            "frozenset({'grated cheese', 'spaghetti', 'eggs'}), 0.0043\n",
            "frozenset({'ground beef', 'herb & pepper', 'eggs'}), 0.0041\n",
            "frozenset({'ground beef', 'milk', 'eggs'}), 0.0059\n",
            "frozenset({'ground beef', 'eggs', 'mineral water'}), 0.0101\n",
            "frozenset({'ground beef', 'spaghetti', 'eggs'}), 0.0089\n",
            "frozenset({'herb & pepper', 'milk', 'eggs'}), 0.0033\n",
            "frozenset({'herb & pepper', 'eggs', 'spaghetti'}), 0.0048\n",
            "frozenset({'milk', 'olive oil', 'eggs'}), 0.0037\n",
            "frozenset({'shrimp', 'milk', 'eggs'}), 0.0043\n",
            "frozenset({'olive oil', 'eggs', 'mineral water'}), 0.0059\n",
            "frozenset({'soup', 'eggs', 'mineral water'}), 0.0049\n",
            "frozenset({'spaghetti', 'olive oil', 'eggs'}), 0.0051\n",
            "frozenset({'spaghetti', 'eggs', 'red wine'}), 0.0037\n",
            "frozenset({'spaghetti', 'eggs', 'salmon'}), 0.0032\n",
            "frozenset({'soup', 'spaghetti', 'eggs'}), 0.0032\n",
            "frozenset({'ground beef', 'spaghetti', 'escalope'}), 0.0033\n",
            "frozenset({'milk', 'mineral water', 'escalope'}), 0.004\n",
            "frozenset({'french fries', 'green tea', 'frozen smoothie'}), 0.0039\n",
            "frozenset({'french fries', 'milk', 'frozen vegetables'}), 0.0057\n",
            "frozenset({'french fries', 'tomatoes', 'frozen vegetables'}), 0.0032\n",
            "frozenset({'ground beef', 'french fries', 'herb & pepper'}), 0.0032\n",
            "frozenset({'ground beef', 'french fries', 'milk'}), 0.0036\n",
            "frozenset({'ground beef', 'french fries', 'spaghetti'}), 0.0056\n",
            "frozenset({'french fries', 'milk', 'olive oil'}), 0.0032\n",
            "frozenset({'shrimp', 'french fries', 'milk'}), 0.0039\n",
            "frozenset({'french fries', 'olive oil', 'spaghetti'}), 0.0035\n",
            "frozenset({'french fries', 'spaghetti', 'pancakes'}), 0.0057\n",
            "frozenset({'spaghetti', 'french wine', 'mineral water'}), 0.0033\n",
            "frozenset({'fresh bread', 'frozen vegetables', 'mineral water'}), 0.0031\n",
            "frozenset({'fresh bread', 'milk', 'mineral water'}), 0.004\n",
            "frozenset({'spaghetti', 'frozen vegetables', 'frozen smoothie'}), 0.0041\n",
            "frozenset({'ground beef', 'spaghetti', 'frozen smoothie'}), 0.0031\n",
            "frozenset({'milk', 'mineral water', 'frozen smoothie'}), 0.0061\n",
            "frozenset({'milk', 'spaghetti', 'frozen smoothie'}), 0.0056\n",
            "frozenset({'pancakes', 'spaghetti', 'frozen smoothie'}), 0.0036\n",
            "frozenset({'green tea', 'frozen vegetables', 'tomatoes'}), 0.0033\n",
            "frozenset({'ground beef', 'milk', 'frozen vegetables'}), 0.0057\n",
            "frozenset({'ground beef', 'frozen vegetables', 'mineral water'}), 0.0092\n",
            "frozenset({'ground beef', 'olive oil', 'frozen vegetables'}), 0.0033\n",
            "frozenset({'ground beef', 'shrimp', 'frozen vegetables'}), 0.0032\n",
            "frozenset({'ground beef', 'spaghetti', 'frozen vegetables'}), 0.0087\n",
            "frozenset({'ground beef', 'tomatoes', 'frozen vegetables'}), 0.0032\n",
            "frozenset({'herb & pepper', 'frozen vegetables', 'mineral water'}), 0.0032\n",
            "frozenset({'honey', 'frozen vegetables', 'mineral water'}), 0.0035\n",
            "frozenset({'low fat yogurt', 'milk', 'frozen vegetables'}), 0.0037\n",
            "frozenset({'milk', 'frozen vegetables', 'mineral water'}), 0.0111\n",
            "frozenset({'milk', 'olive oil', 'frozen vegetables'}), 0.0048\n",
            "frozenset({'shrimp', 'milk', 'frozen vegetables'}), 0.0047\n",
            "frozenset({'soup', 'milk', 'frozen vegetables'}), 0.004\n",
            "frozenset({'milk', 'frozen vegetables', 'spaghetti'}), 0.0083\n",
            "frozenset({'milk', 'tomatoes', 'frozen vegetables'}), 0.0041\n",
            "frozenset({'whole wheat rice', 'milk', 'frozen vegetables'}), 0.0031\n",
            "frozenset({'olive oil', 'frozen vegetables', 'mineral water'}), 0.0065\n",
            "frozenset({'frozen vegetables', 'mineral water', 'salmon'}), 0.0031\n",
            "frozenset({'shrimp', 'frozen vegetables', 'mineral water'}), 0.0072\n",
            "frozenset({'soup', 'frozen vegetables', 'mineral water'}), 0.0051\n",
            "frozenset({'spaghetti', 'frozen vegetables', 'mineral water'}), 0.012\n",
            "frozenset({'tomatoes', 'frozen vegetables', 'mineral water'}), 0.0059\n",
            "frozenset({'turkey', 'frozen vegetables', 'mineral water'}), 0.0044\n",
            "frozenset({'whole wheat rice', 'frozen vegetables', 'mineral water'}), 0.0044\n",
            "frozenset({'spaghetti', 'olive oil', 'frozen vegetables'}), 0.0057\n",
            "frozenset({'shrimp', 'spaghetti', 'frozen vegetables'}), 0.006\n",
            "frozenset({'shrimp', 'tomatoes', 'frozen vegetables'}), 0.004\n",
            "frozenset({'soup', 'spaghetti', 'frozen vegetables'}), 0.0036\n",
            "frozenset({'spaghetti', 'tomatoes', 'frozen vegetables'}), 0.0067\n",
            "frozenset({'whole wheat rice', 'spaghetti', 'frozen vegetables'}), 0.0032\n",
            "frozenset({'grated cheese', 'spaghetti', 'green tea'}), 0.0032\n",
            "frozenset({'grated cheese', 'ground beef', 'mineral water'}), 0.0051\n",
            "frozenset({'grated cheese', 'spaghetti', 'ground beef'}), 0.0053\n",
            "frozenset({'grated cheese', 'spaghetti', 'herb & pepper'}), 0.0031\n",
            "frozenset({'grated cheese', 'milk', 'spaghetti'}), 0.0036\n",
            "frozenset({'grated cheese', 'mineral water', 'pancakes'}), 0.0035\n",
            "frozenset({'grated cheese', 'spaghetti', 'mineral water'}), 0.0063\n",
            "frozenset({'grated cheese', 'spaghetti', 'pancakes'}), 0.0031\n",
            "frozenset({'ground beef', 'spaghetti', 'green tea'}), 0.0064\n",
            "frozenset({'ground beef', 'green tea', 'tomatoes'}), 0.0031\n",
            "frozenset({'spaghetti', 'green tea', 'olive oil'}), 0.0045\n",
            "frozenset({'ground beef', 'milk', 'herb & pepper'}), 0.0036\n",
            "frozenset({'ground beef', 'herb & pepper', 'mineral water'}), 0.0067\n",
            "frozenset({'ground beef', 'spaghetti', 'herb & pepper'}), 0.0064\n",
            "frozenset({'ground beef', 'low fat yogurt', 'milk'}), 0.0031\n",
            "frozenset({'ground beef', 'low fat yogurt', 'mineral water'}), 0.0048\n",
            "frozenset({'ground beef', 'low fat yogurt', 'spaghetti'}), 0.004\n",
            "frozenset({'ground beef', 'milk', 'mineral water'}), 0.0111\n",
            "frozenset({'ground beef', 'milk', 'olive oil'}), 0.0049\n",
            "frozenset({'ground beef', 'milk', 'pancakes'}), 0.0035\n",
            "frozenset({'ground beef', 'soup', 'milk'}), 0.004\n",
            "frozenset({'ground beef', 'milk', 'spaghetti'}), 0.0097\n",
            "frozenset({'ground beef', 'milk', 'turkey'}), 0.0033\n",
            "frozenset({'ground beef', 'olive oil', 'mineral water'}), 0.0067\n",
            "frozenset({'ground beef', 'mineral water', 'pancakes'}), 0.0075\n",
            "frozenset({'ground beef', 'mineral water', 'salmon'}), 0.0039\n",
            "frozenset({'ground beef', 'shrimp', 'mineral water'}), 0.0051\n",
            "frozenset({'ground beef', 'soup', 'mineral water'}), 0.0051\n",
            "frozenset({'ground beef', 'spaghetti', 'mineral water'}), 0.0171\n",
            "frozenset({'ground beef', 'tomatoes', 'mineral water'}), 0.0055\n",
            "frozenset({'ground beef', 'turkey', 'mineral water'}), 0.0039\n",
            "frozenset({'ground beef', 'spaghetti', 'olive oil'}), 0.0061\n",
            "frozenset({'ground beef', 'spaghetti', 'pancakes'}), 0.0064\n",
            "frozenset({'ground beef', 'spaghetti', 'pepper'}), 0.0033\n",
            "frozenset({'ground beef', 'spaghetti', 'salmon'}), 0.0039\n",
            "frozenset({'ground beef', 'shrimp', 'spaghetti'}), 0.006\n",
            "frozenset({'ground beef', 'soup', 'spaghetti'}), 0.0039\n",
            "frozenset({'ground beef', 'spaghetti', 'tomato sauce'}), 0.0031\n",
            "frozenset({'ground beef', 'spaghetti', 'tomatoes'}), 0.0056\n",
            "frozenset({'ham', 'spaghetti', 'mineral water'}), 0.0037\n",
            "frozenset({'herb & pepper', 'mineral water', 'pancakes'}), 0.0036\n",
            "frozenset({'spaghetti', 'herb & pepper', 'mineral water'}), 0.006\n",
            "frozenset({'spaghetti', 'herb & pepper', 'pancakes'}), 0.0036\n",
            "frozenset({'spaghetti', 'mineral water', 'hot dogs'}), 0.0037\n",
            "frozenset({'spaghetti', 'mineral water', 'light cream'}), 0.0032\n",
            "frozenset({'low fat yogurt', 'milk', 'spaghetti'}), 0.0044\n",
            "frozenset({'low fat yogurt', 'spaghetti', 'pancakes'}), 0.0033\n",
            "frozenset({'milk', 'olive oil', 'mineral water'}), 0.0085\n",
            "frozenset({'shrimp', 'milk', 'mineral water'}), 0.0079\n",
            "frozenset({'soup', 'milk', 'mineral water'}), 0.0085\n",
            "frozenset({'milk', 'mineral water', 'spaghetti'}), 0.0157\n",
            "frozenset({'milk', 'tomatoes', 'mineral water'}), 0.0065\n",
            "frozenset({'milk', 'turkey', 'mineral water'}), 0.0061\n",
            "frozenset({'milk', 'olive oil', 'pancakes'}), 0.0031\n",
            "frozenset({'shrimp', 'milk', 'olive oil'}), 0.0032\n",
            "frozenset({'soup', 'milk', 'olive oil'}), 0.0036\n",
            "frozenset({'milk', 'olive oil', 'spaghetti'}), 0.0072\n",
            "frozenset({'shrimp', 'milk', 'pancakes'}), 0.0033\n",
            "frozenset({'milk', 'spaghetti', 'salmon'}), 0.0035\n",
            "frozenset({'soup', 'milk', 'spaghetti'}), 0.0045\n",
            "frozenset({'soup', 'milk', 'tomatoes'}), 0.0031\n",
            "frozenset({'milk', 'tomatoes', 'spaghetti'}), 0.0059\n",
            "frozenset({'milk', 'turkey', 'spaghetti'}), 0.0048\n",
            "frozenset({'milk', 'whole wheat pasta', 'spaghetti'}), 0.004\n",
            "frozenset({'whole wheat rice', 'milk', 'spaghetti'}), 0.0037\n",
            "frozenset({'shrimp', 'olive oil', 'mineral water'}), 0.0045\n",
            "frozenset({'soup', 'olive oil', 'mineral water'}), 0.0052\n",
            "frozenset({'spaghetti', 'olive oil', 'mineral water'}), 0.0103\n",
            "frozenset({'olive oil', 'mineral water', 'tomatoes'}), 0.0041\n",
            "frozenset({'whole wheat pasta', 'olive oil', 'mineral water'}), 0.0039\n",
            "frozenset({'soup', 'mineral water', 'pancakes'}), 0.0043\n",
            "frozenset({'whole wheat rice', 'mineral water', 'pancakes'}), 0.0041\n",
            "frozenset({'spaghetti', 'mineral water', 'red wine'}), 0.004\n",
            "frozenset({'spaghetti', 'mineral water', 'salmon'}), 0.0068\n",
            "frozenset({'shrimp', 'spaghetti', 'mineral water'}), 0.0085\n",
            "frozenset({'soup', 'spaghetti', 'mineral water'}), 0.0075\n",
            "frozenset({'soup', 'tomatoes', 'mineral water'}), 0.0037\n",
            "frozenset({'spaghetti', 'tomatoes', 'mineral water'}), 0.0093\n",
            "frozenset({'whole wheat pasta', 'spaghetti', 'mineral water'}), 0.0036\n",
            "frozenset({'spaghetti', 'olive oil', 'pancakes'}), 0.0051\n",
            "frozenset({'shrimp', 'spaghetti', 'olive oil'}), 0.0036\n",
            "frozenset({'spaghetti', 'olive oil', 'tomatoes'}), 0.0044\n",
            "frozenset({'shrimp', 'spaghetti', 'pancakes'}), 0.0037\n",
            "frozenset({'spaghetti', 'turkey', 'pancakes'}), 0.0037\n",
            "frozenset({'shrimp', 'spaghetti', 'tomatoes'}), 0.004\n",
            "frozenset({'whole wheat rice', 'spaghetti', 'tomatoes'}), 0.0031\n",
            "frozenset({'frozen vegetables', 'chocolate', 'eggs', 'mineral water'}), 0.0031\n",
            "frozenset({'ground beef', 'chocolate', 'eggs', 'mineral water'}), 0.004\n",
            "frozenset({'ground beef', 'chocolate', 'eggs', 'spaghetti'}), 0.0031\n",
            "frozenset({'chocolate', 'milk', 'eggs', 'mineral water'}), 0.0041\n",
            "frozenset({'ground beef', 'chocolate', 'frozen vegetables', 'mineral water'}), 0.0033\n",
            "frozenset({'ground beef', 'chocolate', 'frozen vegetables', 'spaghetti'}), 0.0031\n",
            "frozenset({'chocolate', 'milk', 'frozen vegetables', 'mineral water'}), 0.004\n",
            "frozenset({'chocolate', 'milk', 'frozen vegetables', 'spaghetti'}), 0.0035\n",
            "frozenset({'shrimp', 'chocolate', 'frozen vegetables', 'mineral water'}), 0.0032\n",
            "frozenset({'chocolate', 'frozen vegetables', 'mineral water', 'spaghetti'}), 0.0041\n",
            "frozenset({'ground beef', 'chocolate', 'milk', 'mineral water'}), 0.0033\n",
            "frozenset({'ground beef', 'chocolate', 'mineral water', 'spaghetti'}), 0.004\n",
            "frozenset({'chocolate', 'milk', 'mineral water', 'spaghetti'}), 0.0049\n",
            "frozenset({'chocolate', 'olive oil', 'mineral water', 'spaghetti'}), 0.0039\n",
            "frozenset({'chocolate', 'mineral water', 'spaghetti', 'pancakes'}), 0.0037\n",
            "frozenset({'shrimp', 'chocolate', 'mineral water', 'spaghetti'}), 0.0035\n",
            "frozenset({'french fries', 'eggs', 'mineral water', 'spaghetti'}), 0.0031\n",
            "frozenset({'frozen vegetables', 'milk', 'eggs', 'mineral water'}), 0.0037\n",
            "frozenset({'ground beef', 'milk', 'eggs', 'mineral water'}), 0.0033\n",
            "frozenset({'ground beef', 'spaghetti', 'eggs', 'mineral water'}), 0.0039\n",
            "frozenset({'milk', 'eggs', 'mineral water', 'spaghetti'}), 0.0044\n",
            "frozenset({'milk', 'mineral water', 'spaghetti', 'frozen smoothie'}), 0.0032\n",
            "frozenset({'ground beef', 'milk', 'frozen vegetables', 'mineral water'}), 0.0037\n",
            "frozenset({'ground beef', 'milk', 'frozen vegetables', 'spaghetti'}), 0.0031\n",
            "frozenset({'ground beef', 'spaghetti', 'frozen vegetables', 'mineral water'}), 0.0044\n",
            "frozenset({'milk', 'olive oil', 'frozen vegetables', 'mineral water'}), 0.0033\n",
            "frozenset({'soup', 'milk', 'frozen vegetables', 'mineral water'}), 0.0031\n",
            "frozenset({'milk', 'frozen vegetables', 'mineral water', 'spaghetti'}), 0.0045\n",
            "frozenset({'shrimp', 'spaghetti', 'frozen vegetables', 'mineral water'}), 0.0033\n",
            "frozenset({'spaghetti', 'tomatoes', 'frozen vegetables', 'mineral water'}), 0.0031\n",
            "frozenset({'ground beef', 'milk', 'mineral water', 'spaghetti'}), 0.0044\n",
            "frozenset({'ground beef', 'spaghetti', 'olive oil', 'mineral water'}), 0.0031\n",
            "frozenset({'ground beef', 'spaghetti', 'mineral water', 'pancakes'}), 0.0031\n",
            "frozenset({'ground beef', 'spaghetti', 'tomatoes', 'mineral water'}), 0.0031\n",
            "frozenset({'milk', 'olive oil', 'mineral water', 'spaghetti'}), 0.0033\n",
            "frozenset({'shrimp', 'milk', 'mineral water', 'spaghetti'}), 0.0031\n",
            "frozenset({'milk', 'tomatoes', 'mineral water', 'spaghetti'}), 0.0033\n",
            "<---->\n",
            "0.005\n",
            "<---->\n",
            "frozenset({'burgers', 'almonds'}), 0.0052\n",
            "frozenset({'ham', 'burgers'}), 0.0056\n",
            "frozenset({'cereals', 'milk'}), 0.0071\n",
            "frozenset({'chocolate', 'tomato sauce'}), 0.0051\n",
            "frozenset({'mushroom cream sauce', 'escalope'}), 0.0057\n",
            "frozenset({'pasta', 'escalope'}), 0.0059\n",
            "frozenset({'extra dark chocolate', 'mineral water'}), 0.0057\n",
            "frozenset({'fresh tuna', 'pancakes'}), 0.0051\n",
            "frozenset({'parmesan cheese', 'frozen vegetables'}), 0.0055\n",
            "frozenset({'shrimp', 'frozen vegetables'}), 0.0167\n",
            "frozenset({'tomatoes', 'frozen vegetables'}), 0.0161\n",
            "frozenset({'grated cheese', 'ground beef'}), 0.0113\n",
            "frozenset({'ground beef', 'herb & pepper'}), 0.016\n",
            "frozenset({'ground beef', 'olive oil'}), 0.0141\n",
            "frozenset({'ground beef', 'pepper'}), 0.0065\n",
            "frozenset({'ground beef', 'salmon'}), 0.0089\n",
            "frozenset({'ground beef', 'spaghetti'}), 0.0392\n",
            "frozenset({'ground beef', 'tomato sauce'}), 0.0053\n",
            "frozenset({'light mayo', 'pancakes'}), 0.0055\n",
            "frozenset({'milk', 'meatballs'}), 0.0055\n",
            "frozenset({'soup', 'milk'}), 0.0152\n",
            "frozenset({'milk', 'whole wheat pasta'}), 0.0099\n",
            "frozenset({'nonfat milk', 'mineral water'}), 0.0051\n",
            "frozenset({'olive oil', 'whole wheat pasta'}), 0.008\n",
            "frozenset({'shrimp', 'pasta'}), 0.0051\n",
            "frozenset({'spaghetti', 'pepper'}), 0.0099\n",
            "frozenset({'spaghetti', 'red wine'}), 0.0103\n",
            "frozenset({'spaghetti', 'tomato sauce'}), 0.0063\n",
            "frozenset({'burgers', 'milk', 'chocolate'}), 0.0055\n",
            "frozenset({'spaghetti', 'burgers', 'chocolate'}), 0.0064\n",
            "frozenset({'french fries', 'burgers', 'eggs'}), 0.0091\n",
            "frozenset({'burgers', 'green tea', 'eggs'}), 0.006\n",
            "frozenset({'burgers', 'milk', 'french fries'}), 0.0056\n",
            "frozenset({'burgers', 'french fries', 'spaghetti'}), 0.0056\n",
            "frozenset({'ground beef', 'burgers', 'mineral water'}), 0.0053\n",
            "frozenset({'ground beef', 'burgers', 'spaghetti'}), 0.0055\n",
            "frozenset({'burgers', 'milk', 'mineral water'}), 0.0069\n",
            "frozenset({'burgers', 'milk', 'spaghetti'}), 0.0064\n",
            "frozenset({'spaghetti', 'cake', 'chocolate'}), 0.0052\n",
            "frozenset({'cake', 'milk', 'mineral water'}), 0.0064\n",
            "frozenset({'chicken', 'mineral water', 'chocolate'}), 0.0076\n",
            "frozenset({'chicken', 'milk', 'mineral water'}), 0.0067\n",
            "frozenset({'chicken', 'milk', 'spaghetti'}), 0.0055\n",
            "frozenset({'chocolate', 'milk', 'eggs'}), 0.0092\n",
            "frozenset({'chocolate', 'mineral water', 'escalope'}), 0.0056\n",
            "frozenset({'ground beef', 'chocolate', 'frozen vegetables'}), 0.0057\n",
            "frozenset({'chocolate', 'milk', 'frozen vegetables'}), 0.008\n",
            "frozenset({'shrimp', 'chocolate', 'frozen vegetables'}), 0.0053\n",
            "frozenset({'chocolate', 'frozen vegetables', 'spaghetti'}), 0.0079\n",
            "frozenset({'ground beef', 'chocolate', 'milk'}), 0.0061\n",
            "frozenset({'ground beef', 'chocolate', 'mineral water'}), 0.0109\n",
            "frozenset({'ground beef', 'chocolate', 'spaghetti'}), 0.0092\n",
            "frozenset({'chocolate', 'milk', 'mineral water'}), 0.014\n",
            "frozenset({'chocolate', 'milk', 'olive oil'}), 0.0052\n",
            "frozenset({'shrimp', 'chocolate', 'milk'}), 0.0055\n",
            "frozenset({'chocolate', 'milk', 'spaghetti'}), 0.0109\n",
            "frozenset({'chocolate', 'olive oil', 'mineral water'}), 0.0083\n",
            "frozenset({'soup', 'chocolate', 'mineral water'}), 0.0056\n",
            "frozenset({'chocolate', 'olive oil', 'spaghetti'}), 0.0071\n",
            "frozenset({'shrimp', 'chocolate', 'spaghetti'}), 0.0064\n",
            "frozenset({'cooking oil', 'eggs', 'mineral water'}), 0.0064\n",
            "frozenset({'cooking oil', 'spaghetti', 'mineral water'}), 0.0076\n",
            "frozenset({'frozen vegetables', 'milk', 'eggs'}), 0.0073\n",
            "frozenset({'ground beef', 'milk', 'eggs'}), 0.0059\n",
            "frozenset({'ground beef', 'eggs', 'mineral water'}), 0.0101\n",
            "frozenset({'ground beef', 'spaghetti', 'eggs'}), 0.0089\n",
            "frozenset({'olive oil', 'eggs', 'mineral water'}), 0.0059\n",
            "frozenset({'spaghetti', 'olive oil', 'eggs'}), 0.0051\n",
            "frozenset({'french fries', 'milk', 'frozen vegetables'}), 0.0057\n",
            "frozenset({'ground beef', 'french fries', 'spaghetti'}), 0.0056\n",
            "frozenset({'french fries', 'spaghetti', 'pancakes'}), 0.0057\n",
            "frozenset({'milk', 'mineral water', 'frozen smoothie'}), 0.0061\n",
            "frozenset({'milk', 'spaghetti', 'frozen smoothie'}), 0.0056\n",
            "frozenset({'ground beef', 'milk', 'frozen vegetables'}), 0.0057\n",
            "frozenset({'ground beef', 'frozen vegetables', 'mineral water'}), 0.0092\n",
            "frozenset({'ground beef', 'spaghetti', 'frozen vegetables'}), 0.0087\n",
            "frozenset({'milk', 'frozen vegetables', 'mineral water'}), 0.0111\n",
            "frozenset({'milk', 'frozen vegetables', 'spaghetti'}), 0.0083\n",
            "frozenset({'olive oil', 'frozen vegetables', 'mineral water'}), 0.0065\n",
            "frozenset({'shrimp', 'frozen vegetables', 'mineral water'}), 0.0072\n",
            "frozenset({'soup', 'frozen vegetables', 'mineral water'}), 0.0051\n",
            "frozenset({'spaghetti', 'frozen vegetables', 'mineral water'}), 0.012\n",
            "frozenset({'tomatoes', 'frozen vegetables', 'mineral water'}), 0.0059\n",
            "frozenset({'spaghetti', 'olive oil', 'frozen vegetables'}), 0.0057\n",
            "frozenset({'shrimp', 'spaghetti', 'frozen vegetables'}), 0.006\n",
            "frozenset({'spaghetti', 'tomatoes', 'frozen vegetables'}), 0.0067\n",
            "frozenset({'grated cheese', 'ground beef', 'mineral water'}), 0.0051\n",
            "frozenset({'grated cheese', 'spaghetti', 'ground beef'}), 0.0053\n",
            "frozenset({'grated cheese', 'spaghetti', 'mineral water'}), 0.0063\n",
            "frozenset({'ground beef', 'spaghetti', 'green tea'}), 0.0064\n",
            "frozenset({'ground beef', 'herb & pepper', 'mineral water'}), 0.0067\n",
            "frozenset({'ground beef', 'spaghetti', 'herb & pepper'}), 0.0064\n",
            "frozenset({'ground beef', 'milk', 'mineral water'}), 0.0111\n",
            "frozenset({'ground beef', 'milk', 'spaghetti'}), 0.0097\n",
            "frozenset({'ground beef', 'olive oil', 'mineral water'}), 0.0067\n",
            "frozenset({'ground beef', 'mineral water', 'pancakes'}), 0.0075\n",
            "frozenset({'ground beef', 'shrimp', 'mineral water'}), 0.0051\n",
            "frozenset({'ground beef', 'soup', 'mineral water'}), 0.0051\n",
            "frozenset({'ground beef', 'spaghetti', 'mineral water'}), 0.0171\n",
            "frozenset({'ground beef', 'tomatoes', 'mineral water'}), 0.0055\n",
            "frozenset({'ground beef', 'spaghetti', 'olive oil'}), 0.0061\n",
            "frozenset({'ground beef', 'spaghetti', 'pancakes'}), 0.0064\n",
            "frozenset({'ground beef', 'shrimp', 'spaghetti'}), 0.006\n",
            "frozenset({'ground beef', 'spaghetti', 'tomatoes'}), 0.0056\n",
            "frozenset({'spaghetti', 'herb & pepper', 'mineral water'}), 0.006\n",
            "frozenset({'milk', 'olive oil', 'mineral water'}), 0.0085\n",
            "frozenset({'shrimp', 'milk', 'mineral water'}), 0.0079\n",
            "frozenset({'soup', 'milk', 'mineral water'}), 0.0085\n",
            "frozenset({'milk', 'mineral water', 'spaghetti'}), 0.0157\n",
            "frozenset({'milk', 'tomatoes', 'mineral water'}), 0.0065\n",
            "frozenset({'milk', 'turkey', 'mineral water'}), 0.0061\n",
            "frozenset({'milk', 'olive oil', 'spaghetti'}), 0.0072\n",
            "frozenset({'milk', 'tomatoes', 'spaghetti'}), 0.0059\n",
            "frozenset({'soup', 'olive oil', 'mineral water'}), 0.0052\n",
            "frozenset({'spaghetti', 'olive oil', 'mineral water'}), 0.0103\n",
            "frozenset({'spaghetti', 'mineral water', 'salmon'}), 0.0068\n",
            "frozenset({'shrimp', 'spaghetti', 'mineral water'}), 0.0085\n",
            "frozenset({'soup', 'spaghetti', 'mineral water'}), 0.0075\n",
            "frozenset({'spaghetti', 'tomatoes', 'mineral water'}), 0.0093\n",
            "frozenset({'spaghetti', 'olive oil', 'pancakes'}), 0.0051\n",
            "<---->\n",
            "0.009\n",
            "<---->\n",
            "frozenset({'shrimp', 'frozen vegetables'}), 0.0167\n",
            "frozenset({'tomatoes', 'frozen vegetables'}), 0.0161\n",
            "frozenset({'grated cheese', 'ground beef'}), 0.0113\n",
            "frozenset({'ground beef', 'herb & pepper'}), 0.016\n",
            "frozenset({'ground beef', 'olive oil'}), 0.0141\n",
            "frozenset({'ground beef', 'spaghetti'}), 0.0392\n",
            "frozenset({'soup', 'milk'}), 0.0152\n",
            "frozenset({'milk', 'whole wheat pasta'}), 0.0099\n",
            "frozenset({'spaghetti', 'pepper'}), 0.0099\n",
            "frozenset({'spaghetti', 'red wine'}), 0.0103\n",
            "frozenset({'french fries', 'burgers', 'eggs'}), 0.0091\n",
            "frozenset({'chocolate', 'milk', 'eggs'}), 0.0092\n",
            "frozenset({'ground beef', 'chocolate', 'mineral water'}), 0.0109\n",
            "frozenset({'ground beef', 'chocolate', 'spaghetti'}), 0.0092\n",
            "frozenset({'chocolate', 'milk', 'mineral water'}), 0.014\n",
            "frozenset({'chocolate', 'milk', 'spaghetti'}), 0.0109\n",
            "frozenset({'ground beef', 'eggs', 'mineral water'}), 0.0101\n",
            "frozenset({'ground beef', 'frozen vegetables', 'mineral water'}), 0.0092\n",
            "frozenset({'milk', 'frozen vegetables', 'mineral water'}), 0.0111\n",
            "frozenset({'spaghetti', 'frozen vegetables', 'mineral water'}), 0.012\n",
            "frozenset({'ground beef', 'milk', 'mineral water'}), 0.0111\n",
            "frozenset({'ground beef', 'milk', 'spaghetti'}), 0.0097\n",
            "frozenset({'ground beef', 'spaghetti', 'mineral water'}), 0.0171\n",
            "frozenset({'milk', 'mineral water', 'spaghetti'}), 0.0157\n",
            "frozenset({'spaghetti', 'olive oil', 'mineral water'}), 0.0103\n",
            "frozenset({'spaghetti', 'tomatoes', 'mineral water'}), 0.0093\n",
            "<---->\n",
            "0.01\n",
            "<---->\n",
            "frozenset({'shrimp', 'frozen vegetables'}), 0.0167\n",
            "frozenset({'tomatoes', 'frozen vegetables'}), 0.0161\n",
            "frozenset({'grated cheese', 'ground beef'}), 0.0113\n",
            "frozenset({'ground beef', 'herb & pepper'}), 0.016\n",
            "frozenset({'ground beef', 'olive oil'}), 0.0141\n",
            "frozenset({'ground beef', 'spaghetti'}), 0.0392\n",
            "frozenset({'soup', 'milk'}), 0.0152\n",
            "frozenset({'spaghetti', 'red wine'}), 0.0103\n",
            "frozenset({'ground beef', 'chocolate', 'mineral water'}), 0.0109\n",
            "frozenset({'chocolate', 'milk', 'mineral water'}), 0.014\n",
            "frozenset({'chocolate', 'milk', 'spaghetti'}), 0.0109\n",
            "frozenset({'ground beef', 'eggs', 'mineral water'}), 0.0101\n",
            "frozenset({'milk', 'frozen vegetables', 'mineral water'}), 0.0111\n",
            "frozenset({'spaghetti', 'frozen vegetables', 'mineral water'}), 0.012\n",
            "frozenset({'ground beef', 'milk', 'mineral water'}), 0.0111\n",
            "frozenset({'ground beef', 'spaghetti', 'mineral water'}), 0.0171\n",
            "frozenset({'milk', 'mineral water', 'spaghetti'}), 0.0157\n",
            "frozenset({'spaghetti', 'olive oil', 'mineral water'}), 0.0103\n",
            "<---->\n",
            "0.02\n",
            "<---->\n",
            "frozenset({'ground beef', 'spaghetti'}), 0.0392\n",
            "<---->\n"
          ]
        },
        {
          "output_type": "display_data",
          "data": {
            "image/png": "[encoded data removed]",
            "text/plain": [
              "<Figure size 432x288 with 1 Axes>"
            ]
          },
          "metadata": {
            "needs_background": "light"
          }
        },
        {
          "output_type": "display_data",
          "data": {
            "image/png": "[encoded data removed]",
            "text/plain": [
              "<Figure size 432x288 with 1 Axes>"
            ]
          },
          "metadata": {
            "needs_background": "light"
          }
        }
      ]
    },
    {
      "cell_type": "markdown",
      "source": [
        "**Второй набор данных**"
      ],
      "metadata": {
        "id": "l-9G-fAcMo2q"
      }
    },
    {
      "cell_type": "markdown",
      "source": [
        "Подключение данных"
      ],
      "metadata": {
        "id": "iJCLuWMAMulV"
      }
    },
    {
      "cell_type": "code",
      "source": [
        "dataset = pd.read_csv('online_retail.csv', header = None, low_memory=False)\n",
        "dataset.fillna(method = 'ffill',axis = 1, inplace = True)\n",
        "dataset.head()\n",
        "dataset = dataset.to_numpy()"
      ],
      "metadata": {
        "id": "IKEDL3F_Mtj1"
      },
      "execution_count": null,
      "outputs": []
    },
    {
      "cell_type": "markdown",
      "source": [
        "Установка пароговых значений"
      ],
      "metadata": {
        "id": "roinAfW9MySI"
      }
    },
    {
      "cell_type": "code",
      "source": [
        "min_supports = [0.003, 0.005, 0.009, 0.01, 0.02]"
      ],
      "metadata": {
        "id": "7ZHlWtyfM0OY"
      },
      "execution_count": null,
      "outputs": []
    },
    {
      "cell_type": "markdown",
      "source": [
        "Поиск и вывод результатов"
      ],
      "metadata": {
        "id": "Yi0pjwSAM1uK"
      }
    },
    {
      "cell_type": "code",
      "source": [
        "result, times = apyori_fun(dataset, min_supports)\n",
        "results(result, min_supports)\n",
        "chart(result, min_supports, times)"
      ],
      "metadata": {
        "colab": {
          "base_uri": "https://localhost:8080/",
          "height": 888
        },
        "id": "9kq5rlDiM4SS",
        "outputId": "415e1382-2c08-4036-97f1-9132c26c717f"
      },
      "execution_count": null,
      "outputs": [
        {
          "output_type": "stream",
          "name": "stdout",
          "text": [
            "0.003\n",
            "<---->\n",
            "frozenset({\"PAPER CHAIN KIT 50'S CHRISTMAS \", '22086'}), 0.0041\n",
            "frozenset({'RABBIT NIGHT LIGHT', '23084'}), 0.0031\n",
            "frozenset({'HOT WATER BOTTLE KEEP CALM', '23355'}), 0.0035\n",
            "frozenset({'JUMBO BAG RED RETROSPOT', '85099B'}), 0.0036\n",
            "frozenset({'WHITE HANGING HEART T-LIGHT HOLDER', '85123A'}), 0.0032\n",
            "<---->\n",
            "0.005\n",
            "<---->\n",
            "<---->\n",
            "0.009\n",
            "<---->\n",
            "<---->\n",
            "0.01\n",
            "<---->\n",
            "<---->\n",
            "0.02\n",
            "<---->\n",
            "<---->\n"
          ]
        },
        {
          "output_type": "display_data",
          "data": {
            "image/png": "[encoded data removed]",
            "text/plain": [
              "<Figure size 432x288 with 1 Axes>"
            ]
          },
          "metadata": {
            "needs_background": "light"
          }
        },
        {
          "output_type": "display_data",
          "data": {
            "image/png": "[encoded data removed]",
            "text/plain": [
              "<Figure size 432x288 with 1 Axes>"
            ]
          },
          "metadata": {
            "needs_background": "light"
          }
        }
      ]
    }
  ]
}
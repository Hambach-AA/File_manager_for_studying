{
  "nbformat": 4,
  "nbformat_minor": 0,
  "metadata": {
    "colab": {
      "name": "Lab_4_TAPI.ipynb",
      "provenance": [],
      "collapsed_sections": [],
      "include_colab_link": true
    },
    "kernelspec": {
      "name": "python3",
      "display_name": "Python 3"
    },
    "language_info": {
      "name": "python"
    }
  },
  "cells": [
    {
      "cell_type": "markdown",
      "metadata": {
        "id": "view-in-github",
        "colab_type": "text"
      },
      "source": [
        "<a href=\"https://colab.research.google.com/github/Hambach-AA/File_manager_for_studying/blob/master/Lab_4_TAPI.ipynb\" target=\"_parent\"><img src=\"https://colab.research.google.com/assets/colab-badge.svg\" alt=\"Open In Colab\"/></a>"
      ]
    },
    {
      "cell_type": "code",
      "execution_count": 123,
      "metadata": {
        "id": "zcXRioHCqsqH"
      },
      "outputs": [],
      "source": [
        "import pandas as pd\n",
        "import matplotlib.pyplot as plt\n",
        "import seaborn as sns\n",
        "import numpy as np\n",
        "import warnings\n",
        "from sklearn.ensemble import BaggingClassifier\n",
        "from sklearn import tree\n",
        "from sklearn.model_selection import train_test_split\n",
        "from sklearn.metrics import f1_score, accuracy_score, precision_score, recall_score\n",
        "import matplotlib.pyplot as plt"
      ]
    },
    {
      "cell_type": "code",
      "source": [
        "df = pd.read_csv(\"grades.csv\")\n",
        "df.head()\n",
        "df.shape"
      ],
      "metadata": {
        "colab": {
          "base_uri": "https://localhost:8080/"
        },
        "id": "cr4lsJvJuDtr",
        "outputId": "03758028-ae58-41b4-c56f-584ebc6c186f"
      },
      "execution_count": 124,
      "outputs": [
        {
          "output_type": "execute_result",
          "data": {
            "text/plain": [
              "(72, 9)"
            ]
          },
          "metadata": {},
          "execution_count": 124
        }
      ]
    },
    {
      "cell_type": "code",
      "source": [
        "\n",
        "df.isnull().sum()"
      ],
      "metadata": {
        "colab": {
          "base_uri": "https://localhost:8080/"
        },
        "id": "qh23U-Dhwepj",
        "outputId": "e08b2586-5692-40e8-bd5f-2175ff0c0a61"
      },
      "execution_count": 125,
      "outputs": [
        {
          "output_type": "execute_result",
          "data": {
            "text/plain": [
              "PUPIL_SEX        0\n",
              "PUPIL_CLASS      0\n",
              "TEACHER_RIGHT    0\n",
              "TEACHER_CHK      0\n",
              "TEACHER_QUEST    0\n",
              "TEACHER_CORR     0\n",
              "PUPIL_CORR       0\n",
              "PUPIL_STRIP      0\n",
              "GRADE            0\n",
              "dtype: int64"
            ]
          },
          "metadata": {},
          "execution_count": 125
        }
      ]
    },
    {
      "cell_type": "code",
      "source": [
        "\n",
        "df.describe()"
      ],
      "metadata": {
        "colab": {
          "base_uri": "https://localhost:8080/",
          "height": 300
        },
        "id": "mtKF8Lcbwgcs",
        "outputId": "818f2812-33e9-4328-9353-7e92219f480d"
      },
      "execution_count": 126,
      "outputs": [
        {
          "output_type": "execute_result",
          "data": {
            "text/plain": [
              "       TEACHER_RIGHT  TEACHER_CHK  TEACHER_QUEST  TEACHER_CORR  PUPIL_CORR  \\\n",
              "count      72.000000    72.000000      72.000000     72.000000   72.000000   \n",
              "mean       66.458333     0.305556       0.500000      1.555556    1.597222   \n",
              "std        30.541100     0.704890       0.919277      1.582376    2.243361   \n",
              "min         0.000000     0.000000       0.000000      0.000000    0.000000   \n",
              "25%        47.500000     0.000000       0.000000      0.000000    0.000000   \n",
              "50%        70.000000     0.000000       0.000000      1.000000    1.000000   \n",
              "75%        95.000000     0.000000       1.000000      2.000000    2.000000   \n",
              "max       100.000000     4.000000       4.000000      6.000000   10.000000   \n",
              "\n",
              "       PUPIL_STRIP  \n",
              "count    72.000000  \n",
              "mean      2.861111  \n",
              "std       3.031783  \n",
              "min       0.000000  \n",
              "25%       0.750000  \n",
              "50%       2.000000  \n",
              "75%       4.250000  \n",
              "max      12.000000  "
            ],
            "text/html": [
              "\n",
              "  <div id=\"df-0881011a-baa3-4b3e-a906-586f46c0646c\">\n",
              "    <div class=\"colab-df-container\">\n",
              "      <div>\n",
              "<style scoped>\n",
              "    .dataframe tbody tr th:only-of-type {\n",
              "        vertical-align: middle;\n",
              "    }\n",
              "\n",
              "    .dataframe tbody tr th {\n",
              "        vertical-align: top;\n",
              "    }\n",
              "\n",
              "    .dataframe thead th {\n",
              "        text-align: right;\n",
              "    }\n",
              "</style>\n",
              "<table border=\"1\" class=\"dataframe\">\n",
              "  <thead>\n",
              "    <tr style=\"text-align: right;\">\n",
              "      <th></th>\n",
              "      <th>TEACHER_RIGHT</th>\n",
              "      <th>TEACHER_CHK</th>\n",
              "      <th>TEACHER_QUEST</th>\n",
              "      <th>TEACHER_CORR</th>\n",
              "      <th>PUPIL_CORR</th>\n",
              "      <th>PUPIL_STRIP</th>\n",
              "    </tr>\n",
              "  </thead>\n",
              "  <tbody>\n",
              "    <tr>\n",
              "      <th>count</th>\n",
              "      <td>72.000000</td>\n",
              "      <td>72.000000</td>\n",
              "      <td>72.000000</td>\n",
              "      <td>72.000000</td>\n",
              "      <td>72.000000</td>\n",
              "      <td>72.000000</td>\n",
              "    </tr>\n",
              "    <tr>\n",
              "      <th>mean</th>\n",
              "      <td>66.458333</td>\n",
              "      <td>0.305556</td>\n",
              "      <td>0.500000</td>\n",
              "      <td>1.555556</td>\n",
              "      <td>1.597222</td>\n",
              "      <td>2.861111</td>\n",
              "    </tr>\n",
              "    <tr>\n",
              "      <th>std</th>\n",
              "      <td>30.541100</td>\n",
              "      <td>0.704890</td>\n",
              "      <td>0.919277</td>\n",
              "      <td>1.582376</td>\n",
              "      <td>2.243361</td>\n",
              "      <td>3.031783</td>\n",
              "    </tr>\n",
              "    <tr>\n",
              "      <th>min</th>\n",
              "      <td>0.000000</td>\n",
              "      <td>0.000000</td>\n",
              "      <td>0.000000</td>\n",
              "      <td>0.000000</td>\n",
              "      <td>0.000000</td>\n",
              "      <td>0.000000</td>\n",
              "    </tr>\n",
              "    <tr>\n",
              "      <th>25%</th>\n",
              "      <td>47.500000</td>\n",
              "      <td>0.000000</td>\n",
              "      <td>0.000000</td>\n",
              "      <td>0.000000</td>\n",
              "      <td>0.000000</td>\n",
              "      <td>0.750000</td>\n",
              "    </tr>\n",
              "    <tr>\n",
              "      <th>50%</th>\n",
              "      <td>70.000000</td>\n",
              "      <td>0.000000</td>\n",
              "      <td>0.000000</td>\n",
              "      <td>1.000000</td>\n",
              "      <td>1.000000</td>\n",
              "      <td>2.000000</td>\n",
              "    </tr>\n",
              "    <tr>\n",
              "      <th>75%</th>\n",
              "      <td>95.000000</td>\n",
              "      <td>0.000000</td>\n",
              "      <td>1.000000</td>\n",
              "      <td>2.000000</td>\n",
              "      <td>2.000000</td>\n",
              "      <td>4.250000</td>\n",
              "    </tr>\n",
              "    <tr>\n",
              "      <th>max</th>\n",
              "      <td>100.000000</td>\n",
              "      <td>4.000000</td>\n",
              "      <td>4.000000</td>\n",
              "      <td>6.000000</td>\n",
              "      <td>10.000000</td>\n",
              "      <td>12.000000</td>\n",
              "    </tr>\n",
              "  </tbody>\n",
              "</table>\n",
              "</div>\n",
              "      <button class=\"colab-df-convert\" onclick=\"convertToInteractive('df-0881011a-baa3-4b3e-a906-586f46c0646c')\"\n",
              "              title=\"Convert this dataframe to an interactive table.\"\n",
              "              style=\"display:none;\">\n",
              "        \n",
              "  <svg xmlns=\"http://www.w3.org/2000/svg\" height=\"24px\"viewBox=\"0 0 24 24\"\n",
              "       width=\"24px\">\n",
              "    <path d=\"M0 0h24v24H0V0z\" fill=\"none\"/>\n",
              "    <path d=\"M18.56 5.44l.94 2.06.94-2.06 2.06-.94-2.06-.94-.94-2.06-.94 2.06-2.06.94zm-11 1L8.5 8.5l.94-2.06 2.06-.94-2.06-.94L8.5 2.5l-.94 2.06-2.06.94zm10 10l.94 2.06.94-2.06 2.06-.94-2.06-.94-.94-2.06-.94 2.06-2.06.94z\"/><path d=\"M17.41 7.96l-1.37-1.37c-.4-.4-.92-.59-1.43-.59-.52 0-1.04.2-1.43.59L10.3 9.45l-7.72 7.72c-.78.78-.78 2.05 0 2.83L4 21.41c.39.39.9.59 1.41.59.51 0 1.02-.2 1.41-.59l7.78-7.78 2.81-2.81c.8-.78.8-2.07 0-2.86zM5.41 20L4 18.59l7.72-7.72 1.47 1.35L5.41 20z\"/>\n",
              "  </svg>\n",
              "      </button>\n",
              "      \n",
              "  <style>\n",
              "    .colab-df-container {\n",
              "      display:flex;\n",
              "      flex-wrap:wrap;\n",
              "      gap: 12px;\n",
              "    }\n",
              "\n",
              "    .colab-df-convert {\n",
              "      background-color: #E8F0FE;\n",
              "      border: none;\n",
              "      border-radius: 50%;\n",
              "      cursor: pointer;\n",
              "      display: none;\n",
              "      fill: #1967D2;\n",
              "      height: 32px;\n",
              "      padding: 0 0 0 0;\n",
              "      width: 32px;\n",
              "    }\n",
              "\n",
              "    .colab-df-convert:hover {\n",
              "      background-color: #E2EBFA;\n",
              "      box-shadow: 0px 1px 2px rgba(60, 64, 67, 0.3), 0px 1px 3px 1px rgba(60, 64, 67, 0.15);\n",
              "      fill: #174EA6;\n",
              "    }\n",
              "\n",
              "    [theme=dark] .colab-df-convert {\n",
              "      background-color: #3B4455;\n",
              "      fill: #D2E3FC;\n",
              "    }\n",
              "\n",
              "    [theme=dark] .colab-df-convert:hover {\n",
              "      background-color: #434B5C;\n",
              "      box-shadow: 0px 1px 3px 1px rgba(0, 0, 0, 0.15);\n",
              "      filter: drop-shadow(0px 1px 2px rgba(0, 0, 0, 0.3));\n",
              "      fill: #FFFFFF;\n",
              "    }\n",
              "  </style>\n",
              "\n",
              "      <script>\n",
              "        const buttonEl =\n",
              "          document.querySelector('#df-0881011a-baa3-4b3e-a906-586f46c0646c button.colab-df-convert');\n",
              "        buttonEl.style.display =\n",
              "          google.colab.kernel.accessAllowed ? 'block' : 'none';\n",
              "\n",
              "        async function convertToInteractive(key) {\n",
              "          const element = document.querySelector('#df-0881011a-baa3-4b3e-a906-586f46c0646c');\n",
              "          const dataTable =\n",
              "            await google.colab.kernel.invokeFunction('convertToInteractive',\n",
              "                                                     [key], {});\n",
              "          if (!dataTable) return;\n",
              "\n",
              "          const docLinkHtml = 'Like what you see? Visit the ' +\n",
              "            '<a target=\"_blank\" href=https://colab.research.google.com/notebooks/data_table.ipynb>data table notebook</a>'\n",
              "            + ' to learn more about interactive tables.';\n",
              "          element.innerHTML = '';\n",
              "          dataTable['output_type'] = 'display_data';\n",
              "          await google.colab.output.renderOutput(dataTable, element);\n",
              "          const docLink = document.createElement('div');\n",
              "          docLink.innerHTML = docLinkHtml;\n",
              "          element.appendChild(docLink);\n",
              "        }\n",
              "      </script>\n",
              "    </div>\n",
              "  </div>\n",
              "  "
            ]
          },
          "metadata": {},
          "execution_count": 126
        }
      ]
    },
    {
      "cell_type": "code",
      "source": [
        "df['PUPIL_SEX'] = df['PUPIL_SEX'].replace(['M','F'],['0','1'])\n",
        "df['PUPIL_CLASS'] = df['PUPIL_CLASS'].replace(['8A','8B'],['0','1'])\n",
        "X = df[[\"PUPIL_SEX\",\"PUPIL_CLASS\",\"TEACHER_RIGHT\", \"TEACHER_CHK\", \"TEACHER_QUEST\", \"TEACHER_CORR\", \"PUPIL_CORR\", \"PUPIL_STRIP\"]]\n",
        "Y = df.GRADE\n",
        "f1 = []\n",
        "accur = []\n",
        "precis = []\n",
        "rec = []"
      ],
      "metadata": {
        "id": "f4Ovjqu9wjoL"
      },
      "execution_count": 127,
      "outputs": []
    },
    {
      "cell_type": "code",
      "source": [
        "X_train, X_test, y_train, y_test = train_test_split(X, Y, test_size = 0.5, train_size = 0.5)\n",
        "dt_clf = tree.DecisionTreeClassifier(criterion = \"gini\")\n",
        "\n",
        "clf_bagging = BaggingClassifier(base_estimator=dt_clf, n_estimators=50, oob_score=True)\n",
        "clf_bagging.fit(X_train, y_train)\n",
        "y_pred = clf_bagging.predict(X_test)\n",
        "\n",
        "f1.append(float(f1_score(y_test, y_pred,average='macro')))\n",
        "accur.append(float(accuracy_score(y_test, y_pred)))\n",
        "precis.append(float(precision_score(y_test, y_pred, average='macro')))\n",
        "rec.append(float(recall_score(y_test, y_pred, average='macro')))\n",
        "print(\"F-мера : \" , f1_score(y_test, y_pred,average='macro'))\n",
        "print(\"Аккуратность : \" , accuracy_score(y_test, y_pred))\n",
        "print(\"Точность : \" , precision_score(y_test, y_pred, average='macro'))\n",
        "print(\"Полнота : \" , recall_score(y_test, y_pred,average='macro'))"
      ],
      "metadata": {
        "colab": {
          "base_uri": "https://localhost:8080/"
        },
        "id": "xM2Na236xHHT",
        "outputId": "15ddc2a1-ddf8-455a-c5eb-9e31f0e0f205"
      },
      "execution_count": 128,
      "outputs": [
        {
          "output_type": "stream",
          "name": "stdout",
          "text": [
            "F-мера :  0.4788188002473716\n",
            "Аккуратность :  0.5555555555555556\n",
            "Точность :  0.4797619047619047\n",
            "Полнота :  0.5380952380952381\n"
          ]
        }
      ]
    },
    {
      "cell_type": "code",
      "source": [
        "X_train, X_test, y_train, y_test = train_test_split(X, Y, test_size = 0.5, train_size = 0.5)\n",
        "dt_clf = tree.DecisionTreeClassifier(criterion = \"gini\")\n",
        "\n",
        "clf_bagging = BaggingClassifier(base_estimator=dt_clf, n_estimators=60, oob_score=True)\n",
        "clf_bagging.fit(X_train, y_train)\n",
        "y_pred = clf_bagging.predict(X_test)\n",
        "\n",
        "f1.append(float(f1_score(y_test, y_pred,average='macro')))\n",
        "accur.append(float(accuracy_score(y_test, y_pred)))\n",
        "precis.append(float(precision_score(y_test, y_pred, average='macro')))\n",
        "rec.append(float(recall_score(y_test, y_pred, average='macro')))\n",
        "print(\"F-мера : \" , f1_score(y_test, y_pred,average='macro'))\n",
        "print(\"Аккуратность : \" , accuracy_score(y_test, y_pred))\n",
        "print(\"Точность : \" , precision_score(y_test, y_pred, average='macro'))\n",
        "print(\"Полнота : \" , recall_score(y_test, y_pred,average='macro'))"
      ],
      "metadata": {
        "colab": {
          "base_uri": "https://localhost:8080/"
        },
        "id": "E-Npw1mFDO8w",
        "outputId": "e43d1d10-c509-4273-c888-e7eed7a5a2ec"
      },
      "execution_count": 129,
      "outputs": [
        {
          "output_type": "stream",
          "name": "stdout",
          "text": [
            "F-мера :  0.39965929515618953\n",
            "Аккуратность :  0.4722222222222222\n",
            "Точность :  0.4259431045145331\n",
            "Полнота :  0.46598639455782315\n"
          ]
        }
      ]
    },
    {
      "cell_type": "code",
      "source": [
        "X_train, X_test, y_train, y_test = train_test_split(X, Y, test_size = 0.5, train_size = 0.5)\n",
        "dt_clf = tree.DecisionTreeClassifier(criterion = \"gini\")\n",
        "\n",
        "clf_bagging = BaggingClassifier(base_estimator=dt_clf, n_estimators=70, oob_score=True)\n",
        "clf_bagging.fit(X_train, y_train)\n",
        "y_pred = clf_bagging.predict(X_test)\n",
        "\n",
        "f1.append(float(f1_score(y_test, y_pred,average='macro')))\n",
        "accur.append(float(accuracy_score(y_test, y_pred)))\n",
        "precis.append(float(precision_score(y_test, y_pred, average='macro')))\n",
        "rec.append(float(recall_score(y_test, y_pred, average='macro')))\n",
        "print(\"F-мера : \" , f1_score(y_test, y_pred,average='macro'))\n",
        "print(\"Аккуратность : \" , accuracy_score(y_test, y_pred))\n",
        "print(\"Точность : \" , precision_score(y_test, y_pred, average='macro'))\n",
        "print(\"Полнота : \" , recall_score(y_test, y_pred,average='macro'))"
      ],
      "metadata": {
        "colab": {
          "base_uri": "https://localhost:8080/"
        },
        "id": "gA0mMjd1DrQw",
        "outputId": "0f49eba4-0185-4d1a-ab92-bfbfea8ce5c9"
      },
      "execution_count": 130,
      "outputs": [
        {
          "output_type": "stream",
          "name": "stdout",
          "text": [
            "F-мера :  0.4323914181057038\n",
            "Аккуратность :  0.5\n",
            "Точность :  0.47891156462585033\n",
            "Полнота :  0.4387755102040817\n"
          ]
        }
      ]
    },
    {
      "cell_type": "code",
      "source": [
        "X_train, X_test, y_train, y_test = train_test_split(X, Y, test_size = 0.5, train_size = 0.5)\n",
        "dt_clf = tree.DecisionTreeClassifier(criterion = \"gini\")\n",
        "\n",
        "clf_bagging = BaggingClassifier(base_estimator=dt_clf, n_estimators=80, oob_score=True)\n",
        "clf_bagging.fit(X_train, y_train)\n",
        "y_pred = clf_bagging.predict(X_test)\n",
        "\n",
        "f1.append(float(f1_score(y_test, y_pred,average='macro')))\n",
        "accur.append(float(accuracy_score(y_test, y_pred)))\n",
        "precis.append(float(precision_score(y_test, y_pred, average='macro')))\n",
        "rec.append(float(recall_score(y_test, y_pred, average='macro')))\n",
        "print(\"F-мера : \" , f1_score(y_test, y_pred,average='macro'))\n",
        "print(\"Аккуратность : \" , accuracy_score(y_test, y_pred))\n",
        "print(\"Точность : \" , precision_score(y_test, y_pred, average='macro'))\n",
        "print(\"Полнота : \" , recall_score(y_test, y_pred,average='macro'))"
      ],
      "metadata": {
        "colab": {
          "base_uri": "https://localhost:8080/"
        },
        "id": "QmNQRnWMDuOu",
        "outputId": "912e5766-109c-4976-b6a2-4086183d0bc7"
      },
      "execution_count": 131,
      "outputs": [
        {
          "output_type": "stream",
          "name": "stdout",
          "text": [
            "F-мера :  0.5777777777777777\n",
            "Аккуратность :  0.6111111111111112\n",
            "Точность :  0.5873376623376624\n",
            "Полнота :  0.5764172335600907\n"
          ]
        }
      ]
    },
    {
      "cell_type": "code",
      "source": [
        "X_train, X_test, y_train, y_test = train_test_split(X, Y, test_size = 0.5, train_size = 0.5)\n",
        "dt_clf = tree.DecisionTreeClassifier(criterion = \"gini\")\n",
        "\n",
        "clf_bagging = BaggingClassifier(base_estimator=dt_clf, n_estimators=90, oob_score=True)\n",
        "clf_bagging.fit(X_train, y_train)\n",
        "y_pred = clf_bagging.predict(X_test)\n",
        "\n",
        "f1.append(float(f1_score(y_test, y_pred,average='macro')))\n",
        "accur.append(float(accuracy_score(y_test, y_pred)))\n",
        "precis.append(float(precision_score(y_test, y_pred, average='macro')))\n",
        "rec.append(float(recall_score(y_test, y_pred, average='macro')))\n",
        "print(\"F-мера : \" , f1_score(y_test, y_pred,average='macro'))\n",
        "print(\"Аккуратность : \" , accuracy_score(y_test, y_pred))\n",
        "print(\"Точность : \" , precision_score(y_test, y_pred, average='macro'))\n",
        "print(\"Полнота : \" , recall_score(y_test, y_pred,average='macro'))"
      ],
      "metadata": {
        "colab": {
          "base_uri": "https://localhost:8080/"
        },
        "id": "wHR75rxwlpRn",
        "outputId": "4e326f56-d056-4021-de1c-b12fc568610f"
      },
      "execution_count": 132,
      "outputs": [
        {
          "output_type": "stream",
          "name": "stdout",
          "text": [
            "F-мера :  0.47440654583511727\n",
            "Аккуратность :  0.6111111111111112\n",
            "Точность :  0.4712430426716141\n",
            "Полнота :  0.5273654916512059\n"
          ]
        }
      ]
    },
    {
      "cell_type": "code",
      "source": [
        "X_train, X_test, y_train, y_test = train_test_split(X, Y, test_size = 0.5, train_size = 0.5)\n",
        "dt_clf = tree.DecisionTreeClassifier(criterion = \"gini\")\n",
        "\n",
        "clf_bagging = BaggingClassifier(base_estimator=dt_clf, n_estimators=100, oob_score=True)\n",
        "clf_bagging.fit(X_train, y_train)\n",
        "y_pred = clf_bagging.predict(X_test)\n",
        "\n",
        "f1.append(float(f1_score(y_test, y_pred,average='macro')))\n",
        "accur.append(float(accuracy_score(y_test, y_pred)))\n",
        "precis.append(float(precision_score(y_test, y_pred, average='macro')))\n",
        "rec.append(float(recall_score(y_test, y_pred, average='macro')))\n",
        "print(\"F-мера : \" , f1_score(y_test, y_pred,average='macro'))\n",
        "print(\"Аккуратность : \" , accuracy_score(y_test, y_pred))\n",
        "print(\"Точность : \" , precision_score(y_test, y_pred, average='macro'))\n",
        "print(\"Полнота : \" , recall_score(y_test, y_pred,average='macro'))"
      ],
      "metadata": {
        "colab": {
          "base_uri": "https://localhost:8080/"
        },
        "id": "2zlhiYJalvAb",
        "outputId": "9a13c4b1-ca9e-4a6a-8787-03dad20f2859"
      },
      "execution_count": 133,
      "outputs": [
        {
          "output_type": "stream",
          "name": "stdout",
          "text": [
            "F-мера :  0.32703081232493\n",
            "Аккуратность :  0.4722222222222222\n",
            "Точность :  0.3625\n",
            "Полнота :  0.3569727891156463\n"
          ]
        }
      ]
    },
    {
      "cell_type": "code",
      "source": [
        "names = [\"50\",\"60\",\"70\",\"80\",\"90\",\"100\"]\n",
        "plt.bar(names, f1)\n",
        "plt.xlabel(\"Количество участников ансамбля\")\n",
        "plt.ylabel(\"F-мера\")\n",
        "plt.show()\n",
        "plt.bar(names, accur)\n",
        "plt.xlabel(\"Количество участников ансамбля\")\n",
        "plt.ylabel(\"Аккуратность\")\n",
        "plt.show()\n",
        "plt.bar(names, precis)\n",
        "plt.xlabel(\"Количество участников ансамбля\")\n",
        "plt.ylabel(\"Точность\")\n",
        "plt.show()\n",
        "plt.bar(names, rec)\n",
        "plt.xlabel(\"Количество участников ансамбля\")\n",
        "plt.ylabel(\"Полнота\")\n",
        "plt.show()"
      ],
      "metadata": {
        "colab": {
          "base_uri": "https://localhost:8080/",
          "height": 1000
        },
        "id": "WfK4ZUUkD5KP",
        "outputId": "4a8696d6-16ea-40d6-ffc4-67c4a52f38ce"
      },
      "execution_count": 134,
      "outputs": [
        {
          "output_type": "display_data",
          "data": {
            "text/plain": [
              "<Figure size 432x288 with 1 Axes>"
            ],
            "image/png": "[encoded data removed]"
          },
          "metadata": {
            "needs_background": "light"
          }
        },
        {
          "output_type": "display_data",
          "data": {
            "text/plain": [
              "<Figure size 432x288 with 1 Axes>"
            ],
            "image/png": "[encoded data removed]"
          },
          "metadata": {
            "needs_background": "light"
          }
        },
        {
          "output_type": "display_data",
          "data": {
            "text/plain": [
              "<Figure size 432x288 with 1 Axes>"
            ],
            "image/png": "[encoded data removed]"
          },
          "metadata": {
            "needs_background": "light"
          }
        },
        {
          "output_type": "display_data",
          "data": {
            "text/plain": [
              "<Figure size 432x288 with 1 Axes>"
            ],
            "image/png": "[encoded data removed]"
          },
          "metadata": {
            "needs_background": "light"
          }
        }
      ]
    },
    {
      "cell_type": "code",
      "source": [
        "df = pd.read_csv(\"heart_disease.csv\")\n",
        "df.head()\n",
        "df.shape"
      ],
      "metadata": {
        "colab": {
          "base_uri": "https://localhost:8080/"
        },
        "id": "K9LDHYEfgQ0p",
        "outputId": "53e4fae9-ec1b-4f83-fba2-4da2eb612c5a"
      },
      "execution_count": 135,
      "outputs": [
        {
          "output_type": "execute_result",
          "data": {
            "text/plain": [
              "(918, 12)"
            ]
          },
          "metadata": {},
          "execution_count": 135
        }
      ]
    },
    {
      "cell_type": "code",
      "source": [
        "df.isnull().sum()"
      ],
      "metadata": {
        "colab": {
          "base_uri": "https://localhost:8080/"
        },
        "id": "gXvu-fSsgUqI",
        "outputId": "4789a8f3-9114-44b4-a2d2-3e71d0da4e97"
      },
      "execution_count": 136,
      "outputs": [
        {
          "output_type": "execute_result",
          "data": {
            "text/plain": [
              "Age               0\n",
              "Sex               0\n",
              "ChestPainType     0\n",
              "RestingBP         0\n",
              "Cholesterol       0\n",
              "FastingBS         0\n",
              "RestingECG        0\n",
              "MaxHR             0\n",
              "ExerciseAngina    0\n",
              "Oldpeak           0\n",
              "ST_Slope          0\n",
              "HeartDisease      0\n",
              "dtype: int64"
            ]
          },
          "metadata": {},
          "execution_count": 136
        }
      ]
    },
    {
      "cell_type": "code",
      "source": [
        "df.describe()"
      ],
      "metadata": {
        "colab": {
          "base_uri": "https://localhost:8080/",
          "height": 300
        },
        "id": "WR8TWQ2VgWVV",
        "outputId": "996b1187-efbd-4fe4-8754-5209b2675e1f"
      },
      "execution_count": 137,
      "outputs": [
        {
          "output_type": "execute_result",
          "data": {
            "text/plain": [
              "              Age   RestingBP  Cholesterol   FastingBS       MaxHR  \\\n",
              "count  918.000000  918.000000   918.000000  918.000000  918.000000   \n",
              "mean    53.510893  132.396514   198.799564    0.233115  136.809368   \n",
              "std      9.432617   18.514154   109.384145    0.423046   25.460334   \n",
              "min     28.000000    0.000000     0.000000    0.000000   60.000000   \n",
              "25%     47.000000  120.000000   173.250000    0.000000  120.000000   \n",
              "50%     54.000000  130.000000   223.000000    0.000000  138.000000   \n",
              "75%     60.000000  140.000000   267.000000    0.000000  156.000000   \n",
              "max     77.000000  200.000000   603.000000    1.000000  202.000000   \n",
              "\n",
              "          Oldpeak  HeartDisease  \n",
              "count  918.000000    918.000000  \n",
              "mean     0.887364      0.553377  \n",
              "std      1.066570      0.497414  \n",
              "min     -2.600000      0.000000  \n",
              "25%      0.000000      0.000000  \n",
              "50%      0.600000      1.000000  \n",
              "75%      1.500000      1.000000  \n",
              "max      6.200000      1.000000  "
            ],
            "text/html": [
              "\n",
              "  <div id=\"df-5b2b1ec4-bab3-4467-bedf-d47521a967e5\">\n",
              "    <div class=\"colab-df-container\">\n",
              "      <div>\n",
              "<style scoped>\n",
              "    .dataframe tbody tr th:only-of-type {\n",
              "        vertical-align: middle;\n",
              "    }\n",
              "\n",
              "    .dataframe tbody tr th {\n",
              "        vertical-align: top;\n",
              "    }\n",
              "\n",
              "    .dataframe thead th {\n",
              "        text-align: right;\n",
              "    }\n",
              "</style>\n",
              "<table border=\"1\" class=\"dataframe\">\n",
              "  <thead>\n",
              "    <tr style=\"text-align: right;\">\n",
              "      <th></th>\n",
              "      <th>Age</th>\n",
              "      <th>RestingBP</th>\n",
              "      <th>Cholesterol</th>\n",
              "      <th>FastingBS</th>\n",
              "      <th>MaxHR</th>\n",
              "      <th>Oldpeak</th>\n",
              "      <th>HeartDisease</th>\n",
              "    </tr>\n",
              "  </thead>\n",
              "  <tbody>\n",
              "    <tr>\n",
              "      <th>count</th>\n",
              "      <td>918.000000</td>\n",
              "      <td>918.000000</td>\n",
              "      <td>918.000000</td>\n",
              "      <td>918.000000</td>\n",
              "      <td>918.000000</td>\n",
              "      <td>918.000000</td>\n",
              "      <td>918.000000</td>\n",
              "    </tr>\n",
              "    <tr>\n",
              "      <th>mean</th>\n",
              "      <td>53.510893</td>\n",
              "      <td>132.396514</td>\n",
              "      <td>198.799564</td>\n",
              "      <td>0.233115</td>\n",
              "      <td>136.809368</td>\n",
              "      <td>0.887364</td>\n",
              "      <td>0.553377</td>\n",
              "    </tr>\n",
              "    <tr>\n",
              "      <th>std</th>\n",
              "      <td>9.432617</td>\n",
              "      <td>18.514154</td>\n",
              "      <td>109.384145</td>\n",
              "      <td>0.423046</td>\n",
              "      <td>25.460334</td>\n",
              "      <td>1.066570</td>\n",
              "      <td>0.497414</td>\n",
              "    </tr>\n",
              "    <tr>\n",
              "      <th>min</th>\n",
              "      <td>28.000000</td>\n",
              "      <td>0.000000</td>\n",
              "      <td>0.000000</td>\n",
              "      <td>0.000000</td>\n",
              "      <td>60.000000</td>\n",
              "      <td>-2.600000</td>\n",
              "      <td>0.000000</td>\n",
              "    </tr>\n",
              "    <tr>\n",
              "      <th>25%</th>\n",
              "      <td>47.000000</td>\n",
              "      <td>120.000000</td>\n",
              "      <td>173.250000</td>\n",
              "      <td>0.000000</td>\n",
              "      <td>120.000000</td>\n",
              "      <td>0.000000</td>\n",
              "      <td>0.000000</td>\n",
              "    </tr>\n",
              "    <tr>\n",
              "      <th>50%</th>\n",
              "      <td>54.000000</td>\n",
              "      <td>130.000000</td>\n",
              "      <td>223.000000</td>\n",
              "      <td>0.000000</td>\n",
              "      <td>138.000000</td>\n",
              "      <td>0.600000</td>\n",
              "      <td>1.000000</td>\n",
              "    </tr>\n",
              "    <tr>\n",
              "      <th>75%</th>\n",
              "      <td>60.000000</td>\n",
              "      <td>140.000000</td>\n",
              "      <td>267.000000</td>\n",
              "      <td>0.000000</td>\n",
              "      <td>156.000000</td>\n",
              "      <td>1.500000</td>\n",
              "      <td>1.000000</td>\n",
              "    </tr>\n",
              "    <tr>\n",
              "      <th>max</th>\n",
              "      <td>77.000000</td>\n",
              "      <td>200.000000</td>\n",
              "      <td>603.000000</td>\n",
              "      <td>1.000000</td>\n",
              "      <td>202.000000</td>\n",
              "      <td>6.200000</td>\n",
              "      <td>1.000000</td>\n",
              "    </tr>\n",
              "  </tbody>\n",
              "</table>\n",
              "</div>\n",
              "      <button class=\"colab-df-convert\" onclick=\"convertToInteractive('df-5b2b1ec4-bab3-4467-bedf-d47521a967e5')\"\n",
              "              title=\"Convert this dataframe to an interactive table.\"\n",
              "              style=\"display:none;\">\n",
              "        \n",
              "  <svg xmlns=\"http://www.w3.org/2000/svg\" height=\"24px\"viewBox=\"0 0 24 24\"\n",
              "       width=\"24px\">\n",
              "    <path d=\"M0 0h24v24H0V0z\" fill=\"none\"/>\n",
              "    <path d=\"M18.56 5.44l.94 2.06.94-2.06 2.06-.94-2.06-.94-.94-2.06-.94 2.06-2.06.94zm-11 1L8.5 8.5l.94-2.06 2.06-.94-2.06-.94L8.5 2.5l-.94 2.06-2.06.94zm10 10l.94 2.06.94-2.06 2.06-.94-2.06-.94-.94-2.06-.94 2.06-2.06.94z\"/><path d=\"M17.41 7.96l-1.37-1.37c-.4-.4-.92-.59-1.43-.59-.52 0-1.04.2-1.43.59L10.3 9.45l-7.72 7.72c-.78.78-.78 2.05 0 2.83L4 21.41c.39.39.9.59 1.41.59.51 0 1.02-.2 1.41-.59l7.78-7.78 2.81-2.81c.8-.78.8-2.07 0-2.86zM5.41 20L4 18.59l7.72-7.72 1.47 1.35L5.41 20z\"/>\n",
              "  </svg>\n",
              "      </button>\n",
              "      \n",
              "  <style>\n",
              "    .colab-df-container {\n",
              "      display:flex;\n",
              "      flex-wrap:wrap;\n",
              "      gap: 12px;\n",
              "    }\n",
              "\n",
              "    .colab-df-convert {\n",
              "      background-color: #E8F0FE;\n",
              "      border: none;\n",
              "      border-radius: 50%;\n",
              "      cursor: pointer;\n",
              "      display: none;\n",
              "      fill: #1967D2;\n",
              "      height: 32px;\n",
              "      padding: 0 0 0 0;\n",
              "      width: 32px;\n",
              "    }\n",
              "\n",
              "    .colab-df-convert:hover {\n",
              "      background-color: #E2EBFA;\n",
              "      box-shadow: 0px 1px 2px rgba(60, 64, 67, 0.3), 0px 1px 3px 1px rgba(60, 64, 67, 0.15);\n",
              "      fill: #174EA6;\n",
              "    }\n",
              "\n",
              "    [theme=dark] .colab-df-convert {\n",
              "      background-color: #3B4455;\n",
              "      fill: #D2E3FC;\n",
              "    }\n",
              "\n",
              "    [theme=dark] .colab-df-convert:hover {\n",
              "      background-color: #434B5C;\n",
              "      box-shadow: 0px 1px 3px 1px rgba(0, 0, 0, 0.15);\n",
              "      filter: drop-shadow(0px 1px 2px rgba(0, 0, 0, 0.3));\n",
              "      fill: #FFFFFF;\n",
              "    }\n",
              "  </style>\n",
              "\n",
              "      <script>\n",
              "        const buttonEl =\n",
              "          document.querySelector('#df-5b2b1ec4-bab3-4467-bedf-d47521a967e5 button.colab-df-convert');\n",
              "        buttonEl.style.display =\n",
              "          google.colab.kernel.accessAllowed ? 'block' : 'none';\n",
              "\n",
              "        async function convertToInteractive(key) {\n",
              "          const element = document.querySelector('#df-5b2b1ec4-bab3-4467-bedf-d47521a967e5');\n",
              "          const dataTable =\n",
              "            await google.colab.kernel.invokeFunction('convertToInteractive',\n",
              "                                                     [key], {});\n",
              "          if (!dataTable) return;\n",
              "\n",
              "          const docLinkHtml = 'Like what you see? Visit the ' +\n",
              "            '<a target=\"_blank\" href=https://colab.research.google.com/notebooks/data_table.ipynb>data table notebook</a>'\n",
              "            + ' to learn more about interactive tables.';\n",
              "          element.innerHTML = '';\n",
              "          dataTable['output_type'] = 'display_data';\n",
              "          await google.colab.output.renderOutput(dataTable, element);\n",
              "          const docLink = document.createElement('div');\n",
              "          docLink.innerHTML = docLinkHtml;\n",
              "          element.appendChild(docLink);\n",
              "        }\n",
              "      </script>\n",
              "    </div>\n",
              "  </div>\n",
              "  "
            ]
          },
          "metadata": {},
          "execution_count": 137
        }
      ]
    },
    {
      "cell_type": "code",
      "source": [
        "df['Sex'] = df['Sex'].replace(['M','F'],['0','1'])\n",
        "df['ExerciseAngina'] = df['ExerciseAngina'].replace(['N','Y'],['0','1'])\n",
        "X = df[[\"Age\",\"Sex\",\"RestingBP\", \"Cholesterol\", \"FastingBS\", \"MaxHR\", \"ExerciseAngina\"]]\n",
        "Y = df.HeartDisease\n",
        "f1 = []\n",
        "accur = []\n",
        "precis = []\n",
        "rec = []"
      ],
      "metadata": {
        "id": "foONcAMqgZdC"
      },
      "execution_count": 138,
      "outputs": []
    },
    {
      "cell_type": "code",
      "source": [
        "X_train, X_test, y_train, y_test = train_test_split(X, Y, test_size = 0.5, train_size = 0.5)\n",
        "dt_clf = tree.DecisionTreeClassifier(criterion = \"gini\")\n",
        "\n",
        "clf_bagging = BaggingClassifier(base_estimator=dt_clf, n_estimators=50, oob_score=True)\n",
        "clf_bagging.fit(X_train, y_train)\n",
        "y_pred = clf_bagging.predict(X_test)\n",
        "\n",
        "f1.append(float(f1_score(y_test, y_pred,average='macro')))\n",
        "accur.append(float(accuracy_score(y_test, y_pred)))\n",
        "precis.append(float(precision_score(y_test, y_pred, average='macro')))\n",
        "rec.append(float(recall_score(y_test, y_pred, average='macro')))\n",
        "print(\"F-мера : \" , f1_score(y_test, y_pred,average='macro'))\n",
        "print(\"Аккуратность : \" , accuracy_score(y_test, y_pred))\n",
        "print(\"Точность : \" , precision_score(y_test, y_pred, average='macro'))\n",
        "print(\"Полнота : \" , recall_score(y_test, y_pred,average='macro'))"
      ],
      "metadata": {
        "colab": {
          "base_uri": "https://localhost:8080/"
        },
        "id": "R8E1KoLqgqe7",
        "outputId": "734c69fb-a194-4c6b-b44e-cc7641836ad4"
      },
      "execution_count": 139,
      "outputs": [
        {
          "output_type": "stream",
          "name": "stdout",
          "text": [
            "F-мера :  0.7580227743271222\n",
            "Аккуратность :  0.7603485838779956\n",
            "Точность :  0.7585269829076243\n",
            "Полнота :  0.7576363636363637\n"
          ]
        }
      ]
    },
    {
      "cell_type": "code",
      "source": [
        "X_train, X_test, y_train, y_test = train_test_split(X, Y, test_size = 0.5, train_size = 0.5)\n",
        "dt_clf = tree.DecisionTreeClassifier(criterion = \"gini\")\n",
        "\n",
        "clf_bagging = BaggingClassifier(base_estimator=dt_clf, n_estimators=60, oob_score=True)\n",
        "clf_bagging.fit(X_train, y_train)\n",
        "y_pred = clf_bagging.predict(X_test)\n",
        "\n",
        "f1.append(float(f1_score(y_test, y_pred,average='macro')))\n",
        "accur.append(float(accuracy_score(y_test, y_pred)))\n",
        "precis.append(float(precision_score(y_test, y_pred, average='macro')))\n",
        "rec.append(float(recall_score(y_test, y_pred, average='macro')))\n",
        "print(\"F-мера : \" , f1_score(y_test, y_pred,average='macro'))\n",
        "print(\"Аккуратность : \" , accuracy_score(y_test, y_pred))\n",
        "print(\"Точность : \" , precision_score(y_test, y_pred, average='macro'))\n",
        "print(\"Полнота : \" , recall_score(y_test, y_pred,average='macro'))"
      ],
      "metadata": {
        "colab": {
          "base_uri": "https://localhost:8080/"
        },
        "id": "MHbX_fW-gxGv",
        "outputId": "584075e8-d5d1-4b79-f051-c6a07c94291e"
      },
      "execution_count": 140,
      "outputs": [
        {
          "output_type": "stream",
          "name": "stdout",
          "text": [
            "F-мера :  0.7747168105898989\n",
            "Аккуратность :  0.7799564270152506\n",
            "Точность :  0.7741910452393885\n",
            "Полнота :  0.7753126339163972\n"
          ]
        }
      ]
    },
    {
      "cell_type": "code",
      "source": [
        "X_train, X_test, y_train, y_test = train_test_split(X, Y, test_size = 0.5, train_size = 0.5)\n",
        "dt_clf = tree.DecisionTreeClassifier(criterion = \"gini\")\n",
        "\n",
        "clf_bagging = BaggingClassifier(base_estimator=dt_clf, n_estimators=70, oob_score=True)\n",
        "clf_bagging.fit(X_train, y_train)\n",
        "y_pred = clf_bagging.predict(X_test)\n",
        "\n",
        "f1.append(float(f1_score(y_test, y_pred,average='macro')))\n",
        "accur.append(float(accuracy_score(y_test, y_pred)))\n",
        "precis.append(float(precision_score(y_test, y_pred, average='macro')))\n",
        "rec.append(float(recall_score(y_test, y_pred, average='macro')))\n",
        "print(\"F-мера : \" , f1_score(y_test, y_pred,average='macro'))\n",
        "print(\"Аккуратность : \" , accuracy_score(y_test, y_pred))\n",
        "print(\"Точность : \" , precision_score(y_test, y_pred, average='macro'))\n",
        "print(\"Полнота : \" , recall_score(y_test, y_pred,average='macro'))"
      ],
      "metadata": {
        "colab": {
          "base_uri": "https://localhost:8080/"
        },
        "id": "PINWGxlVgxqZ",
        "outputId": "5c56b5a3-2e04-4a15-dbfc-be9272a809ca"
      },
      "execution_count": 141,
      "outputs": [
        {
          "output_type": "stream",
          "name": "stdout",
          "text": [
            "F-мера :  0.7796235836374112\n",
            "Аккуратность :  0.7821350762527233\n",
            "Точность :  0.7785215033228936\n",
            "Полнота :  0.7822187391152908\n"
          ]
        }
      ]
    },
    {
      "cell_type": "code",
      "source": [
        "X_train, X_test, y_train, y_test = train_test_split(X, Y, test_size = 0.5, train_size = 0.5)\n",
        "dt_clf = tree.DecisionTreeClassifier(criterion = \"gini\")\n",
        "\n",
        "clf_bagging = BaggingClassifier(base_estimator=dt_clf, n_estimators=80, oob_score=True)\n",
        "clf_bagging.fit(X_train, y_train)\n",
        "y_pred = clf_bagging.predict(X_test)\n",
        "\n",
        "f1.append(float(f1_score(y_test, y_pred,average='macro')))\n",
        "accur.append(float(accuracy_score(y_test, y_pred)))\n",
        "precis.append(float(precision_score(y_test, y_pred, average='macro')))\n",
        "rec.append(float(recall_score(y_test, y_pred, average='macro')))\n",
        "print(\"F-мера : \" , f1_score(y_test, y_pred,average='macro'))\n",
        "print(\"Аккуратность : \" , accuracy_score(y_test, y_pred))\n",
        "print(\"Точность : \" , precision_score(y_test, y_pred, average='macro'))\n",
        "print(\"Полнота : \" , recall_score(y_test, y_pred,average='macro'))"
      ],
      "metadata": {
        "colab": {
          "base_uri": "https://localhost:8080/"
        },
        "id": "KtXTxFj8gyI2",
        "outputId": "09485284-3f3f-49e0-b2b4-806c60a03f9a"
      },
      "execution_count": 142,
      "outputs": [
        {
          "output_type": "stream",
          "name": "stdout",
          "text": [
            "F-мера :  0.7510087936350831\n",
            "Аккуратность :  0.7516339869281046\n",
            "Точность :  0.7508170555597781\n",
            "Полнота :  0.7519180121378679\n"
          ]
        }
      ]
    },
    {
      "cell_type": "code",
      "source": [
        "X_train, X_test, y_train, y_test = train_test_split(X, Y, test_size = 0.5, train_size = 0.5)\n",
        "dt_clf = tree.DecisionTreeClassifier(criterion = \"gini\")\n",
        "\n",
        "clf_bagging = BaggingClassifier(base_estimator=dt_clf, n_estimators=90, oob_score=True)\n",
        "clf_bagging.fit(X_train, y_train)\n",
        "y_pred = clf_bagging.predict(X_test)\n",
        "\n",
        "f1.append(float(f1_score(y_test, y_pred,average='macro')))\n",
        "accur.append(float(accuracy_score(y_test, y_pred)))\n",
        "precis.append(float(precision_score(y_test, y_pred, average='macro')))\n",
        "rec.append(float(recall_score(y_test, y_pred, average='macro')))\n",
        "print(\"F-мера : \" , f1_score(y_test, y_pred,average='macro'))\n",
        "print(\"Аккуратность : \" , accuracy_score(y_test, y_pred))\n",
        "print(\"Точность : \" , precision_score(y_test, y_pred, average='macro'))\n",
        "print(\"Полнота : \" , recall_score(y_test, y_pred,average='macro'))"
      ],
      "metadata": {
        "colab": {
          "base_uri": "https://localhost:8080/"
        },
        "id": "iwJqfuD_gyq9",
        "outputId": "41d08a73-27ed-428f-91a5-672561e3ef01"
      },
      "execution_count": 143,
      "outputs": [
        {
          "output_type": "stream",
          "name": "stdout",
          "text": [
            "F-мера :  0.7675527442287111\n",
            "Аккуратность :  0.7690631808278867\n",
            "Точность :  0.7677567412507171\n",
            "Полнота :  0.7673783515392254\n"
          ]
        }
      ]
    },
    {
      "cell_type": "code",
      "source": [
        "X_train, X_test, y_train, y_test = train_test_split(X, Y, test_size = 0.5, train_size = 0.5)\n",
        "dt_clf = tree.DecisionTreeClassifier(criterion = \"gini\")\n",
        "\n",
        "clf_bagging = BaggingClassifier(base_estimator=dt_clf, n_estimators=100, oob_score=True)\n",
        "clf_bagging.fit(X_train, y_train)\n",
        "y_pred = clf_bagging.predict(X_test)\n",
        "\n",
        "f1.append(float(f1_score(y_test, y_pred,average='macro')))\n",
        "accur.append(float(accuracy_score(y_test, y_pred)))\n",
        "precis.append(float(precision_score(y_test, y_pred, average='macro')))\n",
        "rec.append(float(recall_score(y_test, y_pred, average='macro')))\n",
        "print(\"F-мера : \" , f1_score(y_test, y_pred,average='macro'))\n",
        "print(\"Аккуратность : \" , accuracy_score(y_test, y_pred))\n",
        "print(\"Точность : \" , precision_score(y_test, y_pred, average='macro'))\n",
        "print(\"Полнота : \" , recall_score(y_test, y_pred,average='macro'))"
      ],
      "metadata": {
        "colab": {
          "base_uri": "https://localhost:8080/"
        },
        "id": "TYMYJ9Fjg6GI",
        "outputId": "78de3229-7cae-4f98-d9d1-43bda8b6e8d4"
      },
      "execution_count": 144,
      "outputs": [
        {
          "output_type": "stream",
          "name": "stdout",
          "text": [
            "F-мера :  0.7642123287671234\n",
            "Аккуратность :  0.7647058823529411\n",
            "Точность :  0.7666166299308352\n",
            "Полнота :  0.770283545864314\n"
          ]
        }
      ]
    },
    {
      "cell_type": "code",
      "source": [
        "plt.bar(names, f1)\n",
        "plt.xlabel(\"Количество участников ансамбля\")\n",
        "plt.ylabel(\"F-мера\")\n",
        "plt.show()\n",
        "plt.bar(names, accur)\n",
        "plt.xlabel(\"Количество участников ансамбля\")\n",
        "plt.ylabel(\"Аккуратность\")\n",
        "plt.show()\n",
        "plt.bar(names, precis)\n",
        "plt.xlabel(\"Количество участников ансамбля\")\n",
        "plt.ylabel(\"Точность\")\n",
        "plt.show()\n",
        "plt.bar(names, rec)\n",
        "plt.xlabel(\"Количество участников ансамбля\")\n",
        "plt.ylabel(\"Полнота\")\n",
        "plt.show()"
      ],
      "metadata": {
        "colab": {
          "base_uri": "https://localhost:8080/",
          "height": 1000
        },
        "id": "qcCSn080g7oZ",
        "outputId": "3f37d827-2edd-48d8-a7cf-22a1c141acf2"
      },
      "execution_count": 145,
      "outputs": [
        {
          "output_type": "display_data",
          "data": {
            "text/plain": [
              "<Figure size 432x288 with 1 Axes>"
            ],
            "image/png": "[encoded data removed]"
          },
          "metadata": {
            "needs_background": "light"
          }
        },
        {
          "output_type": "display_data",
          "data": {
            "text/plain": [
              "<Figure size 432x288 with 1 Axes>"
            ],
            "image/png": "[encoded data removed]"
          },
          "metadata": {
            "needs_background": "light"
          }
        },
        {
          "output_type": "display_data",
          "data": {
            "text/plain": [
              "<Figure size 432x288 with 1 Axes>"
            ],
            "image/png": "[encoded data removed]"
          },
          "metadata": {
            "needs_background": "light"
          }
        },
        {
          "output_type": "display_data",
          "data": {
            "text/plain": [
              "<Figure size 432x288 with 1 Axes>"
            ],
            "image/png": "[encoded data removed]"
          },
          "metadata": {
            "needs_background": "light"
          }
        }
      ]
    },
    {
      "cell_type": "code",
      "source": [
        ""
      ],
      "metadata": {
        "id": "Tj9U5lpAiDvR"
      },
      "execution_count": 145,
      "outputs": []
    }
  ]
}
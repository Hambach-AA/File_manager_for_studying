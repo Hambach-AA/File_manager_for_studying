{
  "nbformat": 4,
  "nbformat_minor": 0,
  "metadata": {
    "colab": {
      "name": "Lab_4_TAPI.ipynb",
      "provenance": [],
      "collapsed_sections": [],
      "include_colab_link": true
    },
    "kernelspec": {
      "name": "python3",
      "display_name": "Python 3"
    },
    "language_info": {
      "name": "python"
    }
  },
  "cells": [
    {
      "cell_type": "markdown",
      "metadata": {
        "id": "view-in-github",
        "colab_type": "text"
      },
      "source": [
        "<a href=\"https://colab.research.google.com/github/Hambach-AA/File_manager_for_studying/blob/master/Lab_4_TAPI.ipynb\" target=\"_parent\"><img src=\"https://colab.research.google.com/assets/colab-badge.svg\" alt=\"Open In Colab\"/></a>"
      ]
    },
    {
      "cell_type": "code",
      "execution_count": 52,
      "metadata": {
        "id": "zcXRioHCqsqH"
      },
      "outputs": [],
      "source": [
        "import pandas as pd\n",
        "import matplotlib.pyplot as plt\n",
        "import seaborn as sns\n",
        "import numpy as np\n",
        "import warnings\n",
        "from sklearn.ensemble import BaggingClassifier\n",
        "from sklearn import tree\n",
        "from sklearn.model_selection import train_test_split\n",
        "from sklearn.metrics import f1_score, accuracy_score, precision_score, recall_score\n",
        "import matplotlib.pyplot as plt"
      ]
    },
    {
      "cell_type": "code",
      "source": [
        "df = pd.read_csv(\"grades.csv\")\n",
        "df.head()\n",
        "df.shape"
      ],
      "metadata": {
        "colab": {
          "base_uri": "https://localhost:8080/"
        },
        "id": "cr4lsJvJuDtr",
        "outputId": "f14331b2-7e2a-44fc-ea02-f78da90b1a0b"
      },
      "execution_count": 53,
      "outputs": [
        {
          "output_type": "execute_result",
          "data": {
            "text/plain": [
              "(72, 9)"
            ]
          },
          "metadata": {},
          "execution_count": 53
        }
      ]
    },
    {
      "cell_type": "code",
      "source": [
        "\n",
        "df.isnull().sum()"
      ],
      "metadata": {
        "colab": {
          "base_uri": "https://localhost:8080/"
        },
        "id": "qh23U-Dhwepj",
        "outputId": "47369d1a-c234-48ef-8eec-f15a7a4f2ded"
      },
      "execution_count": 54,
      "outputs": [
        {
          "output_type": "execute_result",
          "data": {
            "text/plain": [
              "PUPIL_SEX        0\n",
              "PUPIL_CLASS      0\n",
              "TEACHER_RIGHT    0\n",
              "TEACHER_CHK      0\n",
              "TEACHER_QUEST    0\n",
              "TEACHER_CORR     0\n",
              "PUPIL_CORR       0\n",
              "PUPIL_STRIP      0\n",
              "GRADE            0\n",
              "dtype: int64"
            ]
          },
          "metadata": {},
          "execution_count": 54
        }
      ]
    },
    {
      "cell_type": "code",
      "source": [
        "\n",
        "df.describe()"
      ],
      "metadata": {
        "colab": {
          "base_uri": "https://localhost:8080/",
          "height": 300
        },
        "id": "mtKF8Lcbwgcs",
        "outputId": "1fc32346-79cb-4a66-edc2-26fb117b06ea"
      },
      "execution_count": 55,
      "outputs": [
        {
          "output_type": "execute_result",
          "data": {
            "text/plain": [
              "       TEACHER_RIGHT  TEACHER_CHK  TEACHER_QUEST  TEACHER_CORR  PUPIL_CORR  \\\n",
              "count      72.000000    72.000000      72.000000     72.000000   72.000000   \n",
              "mean       66.458333     0.305556       0.500000      1.555556    1.597222   \n",
              "std        30.541100     0.704890       0.919277      1.582376    2.243361   \n",
              "min         0.000000     0.000000       0.000000      0.000000    0.000000   \n",
              "25%        47.500000     0.000000       0.000000      0.000000    0.000000   \n",
              "50%        70.000000     0.000000       0.000000      1.000000    1.000000   \n",
              "75%        95.000000     0.000000       1.000000      2.000000    2.000000   \n",
              "max       100.000000     4.000000       4.000000      6.000000   10.000000   \n",
              "\n",
              "       PUPIL_STRIP  \n",
              "count    72.000000  \n",
              "mean      2.861111  \n",
              "std       3.031783  \n",
              "min       0.000000  \n",
              "25%       0.750000  \n",
              "50%       2.000000  \n",
              "75%       4.250000  \n",
              "max      12.000000  "
            ],
            "text/html": [
              "\n",
              "  <div id=\"df-4eda5f83-7176-45d2-9a17-ad9bd6534602\">\n",
              "    <div class=\"colab-df-container\">\n",
              "      <div>\n",
              "<style scoped>\n",
              "    .dataframe tbody tr th:only-of-type {\n",
              "        vertical-align: middle;\n",
              "    }\n",
              "\n",
              "    .dataframe tbody tr th {\n",
              "        vertical-align: top;\n",
              "    }\n",
              "\n",
              "    .dataframe thead th {\n",
              "        text-align: right;\n",
              "    }\n",
              "</style>\n",
              "<table border=\"1\" class=\"dataframe\">\n",
              "  <thead>\n",
              "    <tr style=\"text-align: right;\">\n",
              "      <th></th>\n",
              "      <th>TEACHER_RIGHT</th>\n",
              "      <th>TEACHER_CHK</th>\n",
              "      <th>TEACHER_QUEST</th>\n",
              "      <th>TEACHER_CORR</th>\n",
              "      <th>PUPIL_CORR</th>\n",
              "      <th>PUPIL_STRIP</th>\n",
              "    </tr>\n",
              "  </thead>\n",
              "  <tbody>\n",
              "    <tr>\n",
              "      <th>count</th>\n",
              "      <td>72.000000</td>\n",
              "      <td>72.000000</td>\n",
              "      <td>72.000000</td>\n",
              "      <td>72.000000</td>\n",
              "      <td>72.000000</td>\n",
              "      <td>72.000000</td>\n",
              "    </tr>\n",
              "    <tr>\n",
              "      <th>mean</th>\n",
              "      <td>66.458333</td>\n",
              "      <td>0.305556</td>\n",
              "      <td>0.500000</td>\n",
              "      <td>1.555556</td>\n",
              "      <td>1.597222</td>\n",
              "      <td>2.861111</td>\n",
              "    </tr>\n",
              "    <tr>\n",
              "      <th>std</th>\n",
              "      <td>30.541100</td>\n",
              "      <td>0.704890</td>\n",
              "      <td>0.919277</td>\n",
              "      <td>1.582376</td>\n",
              "      <td>2.243361</td>\n",
              "      <td>3.031783</td>\n",
              "    </tr>\n",
              "    <tr>\n",
              "      <th>min</th>\n",
              "      <td>0.000000</td>\n",
              "      <td>0.000000</td>\n",
              "      <td>0.000000</td>\n",
              "      <td>0.000000</td>\n",
              "      <td>0.000000</td>\n",
              "      <td>0.000000</td>\n",
              "    </tr>\n",
              "    <tr>\n",
              "      <th>25%</th>\n",
              "      <td>47.500000</td>\n",
              "      <td>0.000000</td>\n",
              "      <td>0.000000</td>\n",
              "      <td>0.000000</td>\n",
              "      <td>0.000000</td>\n",
              "      <td>0.750000</td>\n",
              "    </tr>\n",
              "    <tr>\n",
              "      <th>50%</th>\n",
              "      <td>70.000000</td>\n",
              "      <td>0.000000</td>\n",
              "      <td>0.000000</td>\n",
              "      <td>1.000000</td>\n",
              "      <td>1.000000</td>\n",
              "      <td>2.000000</td>\n",
              "    </tr>\n",
              "    <tr>\n",
              "      <th>75%</th>\n",
              "      <td>95.000000</td>\n",
              "      <td>0.000000</td>\n",
              "      <td>1.000000</td>\n",
              "      <td>2.000000</td>\n",
              "      <td>2.000000</td>\n",
              "      <td>4.250000</td>\n",
              "    </tr>\n",
              "    <tr>\n",
              "      <th>max</th>\n",
              "      <td>100.000000</td>\n",
              "      <td>4.000000</td>\n",
              "      <td>4.000000</td>\n",
              "      <td>6.000000</td>\n",
              "      <td>10.000000</td>\n",
              "      <td>12.000000</td>\n",
              "    </tr>\n",
              "  </tbody>\n",
              "</table>\n",
              "</div>\n",
              "      <button class=\"colab-df-convert\" onclick=\"convertToInteractive('df-4eda5f83-7176-45d2-9a17-ad9bd6534602')\"\n",
              "              title=\"Convert this dataframe to an interactive table.\"\n",
              "              style=\"display:none;\">\n",
              "        \n",
              "  <svg xmlns=\"http://www.w3.org/2000/svg\" height=\"24px\"viewBox=\"0 0 24 24\"\n",
              "       width=\"24px\">\n",
              "    <path d=\"M0 0h24v24H0V0z\" fill=\"none\"/>\n",
              "    <path d=\"M18.56 5.44l.94 2.06.94-2.06 2.06-.94-2.06-.94-.94-2.06-.94 2.06-2.06.94zm-11 1L8.5 8.5l.94-2.06 2.06-.94-2.06-.94L8.5 2.5l-.94 2.06-2.06.94zm10 10l.94 2.06.94-2.06 2.06-.94-2.06-.94-.94-2.06-.94 2.06-2.06.94z\"/><path d=\"M17.41 7.96l-1.37-1.37c-.4-.4-.92-.59-1.43-.59-.52 0-1.04.2-1.43.59L10.3 9.45l-7.72 7.72c-.78.78-.78 2.05 0 2.83L4 21.41c.39.39.9.59 1.41.59.51 0 1.02-.2 1.41-.59l7.78-7.78 2.81-2.81c.8-.78.8-2.07 0-2.86zM5.41 20L4 18.59l7.72-7.72 1.47 1.35L5.41 20z\"/>\n",
              "  </svg>\n",
              "      </button>\n",
              "      \n",
              "  <style>\n",
              "    .colab-df-container {\n",
              "      display:flex;\n",
              "      flex-wrap:wrap;\n",
              "      gap: 12px;\n",
              "    }\n",
              "\n",
              "    .colab-df-convert {\n",
              "      background-color: #E8F0FE;\n",
              "      border: none;\n",
              "      border-radius: 50%;\n",
              "      cursor: pointer;\n",
              "      display: none;\n",
              "      fill: #1967D2;\n",
              "      height: 32px;\n",
              "      padding: 0 0 0 0;\n",
              "      width: 32px;\n",
              "    }\n",
              "\n",
              "    .colab-df-convert:hover {\n",
              "      background-color: #E2EBFA;\n",
              "      box-shadow: 0px 1px 2px rgba(60, 64, 67, 0.3), 0px 1px 3px 1px rgba(60, 64, 67, 0.15);\n",
              "      fill: #174EA6;\n",
              "    }\n",
              "\n",
              "    [theme=dark] .colab-df-convert {\n",
              "      background-color: #3B4455;\n",
              "      fill: #D2E3FC;\n",
              "    }\n",
              "\n",
              "    [theme=dark] .colab-df-convert:hover {\n",
              "      background-color: #434B5C;\n",
              "      box-shadow: 0px 1px 3px 1px rgba(0, 0, 0, 0.15);\n",
              "      filter: drop-shadow(0px 1px 2px rgba(0, 0, 0, 0.3));\n",
              "      fill: #FFFFFF;\n",
              "    }\n",
              "  </style>\n",
              "\n",
              "      <script>\n",
              "        const buttonEl =\n",
              "          document.querySelector('#df-4eda5f83-7176-45d2-9a17-ad9bd6534602 button.colab-df-convert');\n",
              "        buttonEl.style.display =\n",
              "          google.colab.kernel.accessAllowed ? 'block' : 'none';\n",
              "\n",
              "        async function convertToInteractive(key) {\n",
              "          const element = document.querySelector('#df-4eda5f83-7176-45d2-9a17-ad9bd6534602');\n",
              "          const dataTable =\n",
              "            await google.colab.kernel.invokeFunction('convertToInteractive',\n",
              "                                                     [key], {});\n",
              "          if (!dataTable) return;\n",
              "\n",
              "          const docLinkHtml = 'Like what you see? Visit the ' +\n",
              "            '<a target=\"_blank\" href=https://colab.research.google.com/notebooks/data_table.ipynb>data table notebook</a>'\n",
              "            + ' to learn more about interactive tables.';\n",
              "          element.innerHTML = '';\n",
              "          dataTable['output_type'] = 'display_data';\n",
              "          await google.colab.output.renderOutput(dataTable, element);\n",
              "          const docLink = document.createElement('div');\n",
              "          docLink.innerHTML = docLinkHtml;\n",
              "          element.appendChild(docLink);\n",
              "        }\n",
              "      </script>\n",
              "    </div>\n",
              "  </div>\n",
              "  "
            ]
          },
          "metadata": {},
          "execution_count": 55
        }
      ]
    },
    {
      "cell_type": "code",
      "source": [
        "df['PUPIL_SEX'] = df['PUPIL_SEX'].replace(['M','F'],['0','1'])\n",
        "df['PUPIL_CLASS'] = df['PUPIL_CLASS'].replace(['8A','8B'],['0','1'])\n",
        "X = df[[\"PUPIL_SEX\",\"PUPIL_CLASS\",\"TEACHER_RIGHT\", \"TEACHER_CHK\", \"TEACHER_QUEST\", \"TEACHER_CORR\", \"PUPIL_CORR\", \"PUPIL_STRIP\"]]\n",
        "Y = df.GRADE\n",
        "f1 = []\n",
        "accur = []\n",
        "precis = []\n",
        "rec = []"
      ],
      "metadata": {
        "id": "f4Ovjqu9wjoL"
      },
      "execution_count": 56,
      "outputs": []
    },
    {
      "cell_type": "code",
      "source": [
        "X_train, X_test, y_train, y_test = train_test_split(X, Y, test_size = 0.5, train_size = 0.5)\n",
        "dt_clf = tree.DecisionTreeClassifier(criterion = \"gini\")\n",
        "\n",
        "clf_bagging = BaggingClassifier(base_estimator=dt_clf, n_estimators=50, oob_score=True)\n",
        "clf_bagging.fit(X_train, y_train)\n",
        "y_pred = clf_bagging.predict(X_test)\n",
        "\n",
        "f1.append(float(f1_score(y_test, y_pred,average='macro')))\n",
        "accur.append(float(accuracy_score(y_test, y_pred)))\n",
        "precis.append(float(precision_score(y_test, y_pred, average='macro')))\n",
        "rec.append(float(recall_score(y_test, y_pred, average='macro')))\n",
        "print(\"F-мера : \" , f1_score(y_test, y_pred,average='macro'))\n",
        "print(\"Аккуратность : \" , accuracy_score(y_test, y_pred))\n",
        "print(\"Точность : \" , precision_score(y_test, y_pred, average='macro'))\n",
        "print(\"Полнота : \" , recall_score(y_test, y_pred,average='macro'))"
      ],
      "metadata": {
        "colab": {
          "base_uri": "https://localhost:8080/"
        },
        "id": "xM2Na236xHHT",
        "outputId": "20bc3908-4aae-44ad-ac2d-b7b355469975"
      },
      "execution_count": 57,
      "outputs": [
        {
          "output_type": "stream",
          "name": "stdout",
          "text": [
            "F-мера :  0.5285714285714286\n",
            "Аккуратность :  0.6111111111111112\n",
            "Точность :  0.5166666666666667\n",
            "Полнота :  0.5714285714285714\n"
          ]
        }
      ]
    },
    {
      "cell_type": "code",
      "source": [
        "X_train, X_test, y_train, y_test = train_test_split(X, Y, test_size = 0.5, train_size = 0.5)\n",
        "dt_clf = tree.DecisionTreeClassifier(criterion = \"gini\")\n",
        "\n",
        "clf_bagging = BaggingClassifier(base_estimator=dt_clf, n_estimators=60, oob_score=True)\n",
        "clf_bagging.fit(X_train, y_train)\n",
        "y_pred = clf_bagging.predict(X_test)\n",
        "\n",
        "f1.append(float(f1_score(y_test, y_pred,average='macro')))\n",
        "accur.append(float(accuracy_score(y_test, y_pred)))\n",
        "precis.append(float(precision_score(y_test, y_pred, average='macro')))\n",
        "rec.append(float(recall_score(y_test, y_pred, average='macro')))\n",
        "print(\"F-мера : \" , f1_score(y_test, y_pred,average='macro'))\n",
        "print(\"Аккуратность : \" , accuracy_score(y_test, y_pred))\n",
        "print(\"Точность : \" , precision_score(y_test, y_pred, average='macro'))\n",
        "print(\"Полнота : \" , recall_score(y_test, y_pred,average='macro'))"
      ],
      "metadata": {
        "colab": {
          "base_uri": "https://localhost:8080/"
        },
        "id": "E-Npw1mFDO8w",
        "outputId": "c022daf7-59ab-4b85-8549-71cae4064ac9"
      },
      "execution_count": 58,
      "outputs": [
        {
          "output_type": "stream",
          "name": "stdout",
          "text": [
            "F-мера :  0.4788388082505729\n",
            "Аккуратность :  0.5555555555555556\n",
            "Точность :  0.5357142857142857\n",
            "Полнота :  0.49489795918367346\n"
          ]
        }
      ]
    },
    {
      "cell_type": "code",
      "source": [
        "X_train, X_test, y_train, y_test = train_test_split(X, Y, test_size = 0.5, train_size = 0.5)\n",
        "dt_clf = tree.DecisionTreeClassifier(criterion = \"gini\")\n",
        "\n",
        "clf_bagging = BaggingClassifier(base_estimator=dt_clf, n_estimators=70, oob_score=True)\n",
        "clf_bagging.fit(X_train, y_train)\n",
        "y_pred = clf_bagging.predict(X_test)\n",
        "\n",
        "f1.append(float(f1_score(y_test, y_pred,average='macro')))\n",
        "accur.append(float(accuracy_score(y_test, y_pred)))\n",
        "precis.append(float(precision_score(y_test, y_pred, average='macro')))\n",
        "rec.append(float(recall_score(y_test, y_pred, average='macro')))\n",
        "print(\"F-мера : \" , f1_score(y_test, y_pred,average='macro'))\n",
        "print(\"Аккуратность : \" , accuracy_score(y_test, y_pred))\n",
        "print(\"Точность : \" , precision_score(y_test, y_pred, average='macro'))\n",
        "print(\"Полнота : \" , recall_score(y_test, y_pred,average='macro'))"
      ],
      "metadata": {
        "colab": {
          "base_uri": "https://localhost:8080/"
        },
        "id": "gA0mMjd1DrQw",
        "outputId": "b5fa8ed4-d1f5-4ee5-e3d6-4f88d2c4e50d"
      },
      "execution_count": 59,
      "outputs": [
        {
          "output_type": "stream",
          "name": "stdout",
          "text": [
            "F-мера :  0.4123533471359558\n",
            "Аккуратность :  0.5277777777777778\n",
            "Точность :  0.38690476190476186\n",
            "Полнота :  0.45340909090909093\n"
          ]
        }
      ]
    },
    {
      "cell_type": "code",
      "source": [
        "X_train, X_test, y_train, y_test = train_test_split(X, Y, test_size = 0.5, train_size = 0.5)\n",
        "dt_clf = tree.DecisionTreeClassifier(criterion = \"gini\")\n",
        "\n",
        "clf_bagging = BaggingClassifier(base_estimator=dt_clf, n_estimators=80, oob_score=True)\n",
        "clf_bagging.fit(X_train, y_train)\n",
        "y_pred = clf_bagging.predict(X_test)\n",
        "\n",
        "f1.append(float(f1_score(y_test, y_pred,average='macro')))\n",
        "accur.append(float(accuracy_score(y_test, y_pred)))\n",
        "precis.append(float(precision_score(y_test, y_pred, average='macro')))\n",
        "rec.append(float(recall_score(y_test, y_pred, average='macro')))\n",
        "print(\"F-мера : \" , f1_score(y_test, y_pred,average='macro'))\n",
        "print(\"Аккуратность : \" , accuracy_score(y_test, y_pred))\n",
        "print(\"Точность : \" , precision_score(y_test, y_pred, average='macro'))\n",
        "print(\"Полнота : \" , recall_score(y_test, y_pred,average='macro'))"
      ],
      "metadata": {
        "colab": {
          "base_uri": "https://localhost:8080/"
        },
        "id": "QmNQRnWMDuOu",
        "outputId": "da940def-218d-400b-a2a4-d2b7c9d13875"
      },
      "execution_count": 60,
      "outputs": [
        {
          "output_type": "stream",
          "name": "stdout",
          "text": [
            "F-мера :  0.3781789638932496\n",
            "Аккуратность :  0.5277777777777778\n",
            "Точность :  0.4272108843537415\n",
            "Полнота :  0.3952380952380953\n"
          ]
        }
      ]
    },
    {
      "cell_type": "code",
      "source": [
        "X_train, X_test, y_train, y_test = train_test_split(X, Y, test_size = 0.5, train_size = 0.5)\n",
        "dt_clf = tree.DecisionTreeClassifier(criterion = \"gini\")\n",
        "\n",
        "clf_bagging = BaggingClassifier(base_estimator=dt_clf, n_estimators=90, oob_score=True)\n",
        "clf_bagging.fit(X_train, y_train)\n",
        "y_pred = clf_bagging.predict(X_test)\n",
        "\n",
        "f1.append(float(f1_score(y_test, y_pred,average='macro')))\n",
        "accur.append(float(accuracy_score(y_test, y_pred)))\n",
        "precis.append(float(precision_score(y_test, y_pred, average='macro')))\n",
        "rec.append(float(recall_score(y_test, y_pred, average='macro')))\n",
        "print(\"F-мера : \" , f1_score(y_test, y_pred,average='macro'))\n",
        "print(\"Аккуратность : \" , accuracy_score(y_test, y_pred))\n",
        "print(\"Точность : \" , precision_score(y_test, y_pred, average='macro'))\n",
        "print(\"Полнота : \" , recall_score(y_test, y_pred,average='macro'))"
      ],
      "metadata": {
        "colab": {
          "base_uri": "https://localhost:8080/"
        },
        "id": "wHR75rxwlpRn",
        "outputId": "184ddb62-5746-4067-c7e7-1261db8404f0"
      },
      "execution_count": 61,
      "outputs": [
        {
          "output_type": "stream",
          "name": "stdout",
          "text": [
            "F-мера :  0.5111626468769327\n",
            "Аккуратность :  0.5833333333333334\n",
            "Точность :  0.5245421245421246\n",
            "Полнота :  0.5177798392084106\n"
          ]
        }
      ]
    },
    {
      "cell_type": "code",
      "source": [
        "X_train, X_test, y_train, y_test = train_test_split(X, Y, test_size = 0.5, train_size = 0.5)\n",
        "dt_clf = tree.DecisionTreeClassifier(criterion = \"gini\")\n",
        "\n",
        "clf_bagging = BaggingClassifier(base_estimator=dt_clf, n_estimators=100, oob_score=True)\n",
        "clf_bagging.fit(X_train, y_train)\n",
        "y_pred = clf_bagging.predict(X_test)\n",
        "\n",
        "f1.append(float(f1_score(y_test, y_pred,average='macro')))\n",
        "accur.append(float(accuracy_score(y_test, y_pred)))\n",
        "precis.append(float(precision_score(y_test, y_pred, average='macro')))\n",
        "rec.append(float(recall_score(y_test, y_pred, average='macro')))\n",
        "print(\"F-мера : \" , f1_score(y_test, y_pred,average='macro'))\n",
        "print(\"Аккуратность : \" , accuracy_score(y_test, y_pred))\n",
        "print(\"Точность : \" , precision_score(y_test, y_pred, average='macro'))\n",
        "print(\"Полнота : \" , recall_score(y_test, y_pred,average='macro'))"
      ],
      "metadata": {
        "colab": {
          "base_uri": "https://localhost:8080/"
        },
        "id": "2zlhiYJalvAb",
        "outputId": "8eefc737-0f04-44b6-b5c9-80f5b0a5c446"
      },
      "execution_count": 62,
      "outputs": [
        {
          "output_type": "stream",
          "name": "stdout",
          "text": [
            "F-мера :  0.4344078144078144\n",
            "Аккуратность :  0.5555555555555556\n",
            "Точность :  0.42838827838827837\n",
            "Полнота :  0.4557823129251701\n"
          ]
        }
      ]
    },
    {
      "cell_type": "code",
      "source": [
        "names = [\"50\",\"60\",\"70\",\"80\",\"90\",\"100\"]\n",
        "plt.bar(names, f1)\n",
        "plt.xlabel(\"количество участников ансамбля\")\n",
        "plt.ylabel(\"F-мера\")\n",
        "plt.show()\n",
        "plt.bar(names, accur)\n",
        "plt.xlabel(\"количество участников ансамбля\")\n",
        "plt.ylabel(\"аккуратность\")\n",
        "plt.show()\n",
        "plt.bar(names, precis)\n",
        "plt.xlabel(\"количество участников ансамбля\")\n",
        "plt.ylabel(\"точность\")\n",
        "plt.show()\n",
        "plt.bar(names, rec)\n",
        "plt.xlabel(\"количество участников ансамбля\")\n",
        "plt.ylabel(\"полнота\")\n",
        "plt.show()"
      ],
      "metadata": {
        "colab": {
          "base_uri": "https://localhost:8080/",
          "height": 1000
        },
        "id": "WfK4ZUUkD5KP",
        "outputId": "1a861fc9-0366-4a69-ec57-512cbea5392a"
      },
      "execution_count": 63,
      "outputs": [
        {
          "output_type": "display_data",
          "data": {
            "text/plain": [
              "<Figure size 432x288 with 1 Axes>"
            ],
            "image/png": "[encoded data removed]"
          },
          "metadata": {
            "needs_background": "light"
          }
        },
        {
          "output_type": "display_data",
          "data": {
            "text/plain": [
              "<Figure size 432x288 with 1 Axes>"
            ],
            "image/png": "[encoded data removed]"
          },
          "metadata": {
            "needs_background": "light"
          }
        },
        {
          "output_type": "display_data",
          "data": {
            "text/plain": [
              "<Figure size 432x288 with 1 Axes>"
            ],
            "image/png": "[encoded data removed]"
          },
          "metadata": {
            "needs_background": "light"
          }
        },
        {
          "output_type": "display_data",
          "data": {
            "text/plain": [
              "<Figure size 432x288 with 1 Axes>"
            ],
            "image/png": "[encoded data removed]"
          },
          "metadata": {
            "needs_background": "light"
          }
        }
      ]
    },
    {
      "cell_type": "code",
      "source": [
        "df = pd.read_csv(\"heart_disease.csv\")\n",
        "df.head()\n",
        "df.shape"
      ],
      "metadata": {
        "colab": {
          "base_uri": "https://localhost:8080/"
        },
        "id": "K9LDHYEfgQ0p",
        "outputId": "725b92f3-cd11-438a-8ea6-1232ffa32538"
      },
      "execution_count": 64,
      "outputs": [
        {
          "output_type": "execute_result",
          "data": {
            "text/plain": [
              "(918, 12)"
            ]
          },
          "metadata": {},
          "execution_count": 64
        }
      ]
    },
    {
      "cell_type": "code",
      "source": [
        "df.isnull().sum()"
      ],
      "metadata": {
        "colab": {
          "base_uri": "https://localhost:8080/"
        },
        "id": "gXvu-fSsgUqI",
        "outputId": "03790bc2-d14f-4f18-ffe7-4a6c5612c85e"
      },
      "execution_count": 65,
      "outputs": [
        {
          "output_type": "execute_result",
          "data": {
            "text/plain": [
              "Age               0\n",
              "Sex               0\n",
              "ChestPainType     0\n",
              "RestingBP         0\n",
              "Cholesterol       0\n",
              "FastingBS         0\n",
              "RestingECG        0\n",
              "MaxHR             0\n",
              "ExerciseAngina    0\n",
              "Oldpeak           0\n",
              "ST_Slope          0\n",
              "HeartDisease      0\n",
              "dtype: int64"
            ]
          },
          "metadata": {},
          "execution_count": 65
        }
      ]
    },
    {
      "cell_type": "code",
      "source": [
        "df.describe()"
      ],
      "metadata": {
        "colab": {
          "base_uri": "https://localhost:8080/",
          "height": 300
        },
        "id": "WR8TWQ2VgWVV",
        "outputId": "f2962e00-6ee7-4830-fb0d-2b0dae12a70d"
      },
      "execution_count": 66,
      "outputs": [
        {
          "output_type": "execute_result",
          "data": {
            "text/plain": [
              "              Age   RestingBP  Cholesterol   FastingBS       MaxHR  \\\n",
              "count  918.000000  918.000000   918.000000  918.000000  918.000000   \n",
              "mean    53.510893  132.396514   198.799564    0.233115  136.809368   \n",
              "std      9.432617   18.514154   109.384145    0.423046   25.460334   \n",
              "min     28.000000    0.000000     0.000000    0.000000   60.000000   \n",
              "25%     47.000000  120.000000   173.250000    0.000000  120.000000   \n",
              "50%     54.000000  130.000000   223.000000    0.000000  138.000000   \n",
              "75%     60.000000  140.000000   267.000000    0.000000  156.000000   \n",
              "max     77.000000  200.000000   603.000000    1.000000  202.000000   \n",
              "\n",
              "          Oldpeak  HeartDisease  \n",
              "count  918.000000    918.000000  \n",
              "mean     0.887364      0.553377  \n",
              "std      1.066570      0.497414  \n",
              "min     -2.600000      0.000000  \n",
              "25%      0.000000      0.000000  \n",
              "50%      0.600000      1.000000  \n",
              "75%      1.500000      1.000000  \n",
              "max      6.200000      1.000000  "
            ],
            "text/html": [
              "\n",
              "  <div id=\"df-339bf8e8-819f-4d32-8672-d5d0e82f4ac3\">\n",
              "    <div class=\"colab-df-container\">\n",
              "      <div>\n",
              "<style scoped>\n",
              "    .dataframe tbody tr th:only-of-type {\n",
              "        vertical-align: middle;\n",
              "    }\n",
              "\n",
              "    .dataframe tbody tr th {\n",
              "        vertical-align: top;\n",
              "    }\n",
              "\n",
              "    .dataframe thead th {\n",
              "        text-align: right;\n",
              "    }\n",
              "</style>\n",
              "<table border=\"1\" class=\"dataframe\">\n",
              "  <thead>\n",
              "    <tr style=\"text-align: right;\">\n",
              "      <th></th>\n",
              "      <th>Age</th>\n",
              "      <th>RestingBP</th>\n",
              "      <th>Cholesterol</th>\n",
              "      <th>FastingBS</th>\n",
              "      <th>MaxHR</th>\n",
              "      <th>Oldpeak</th>\n",
              "      <th>HeartDisease</th>\n",
              "    </tr>\n",
              "  </thead>\n",
              "  <tbody>\n",
              "    <tr>\n",
              "      <th>count</th>\n",
              "      <td>918.000000</td>\n",
              "      <td>918.000000</td>\n",
              "      <td>918.000000</td>\n",
              "      <td>918.000000</td>\n",
              "      <td>918.000000</td>\n",
              "      <td>918.000000</td>\n",
              "      <td>918.000000</td>\n",
              "    </tr>\n",
              "    <tr>\n",
              "      <th>mean</th>\n",
              "      <td>53.510893</td>\n",
              "      <td>132.396514</td>\n",
              "      <td>198.799564</td>\n",
              "      <td>0.233115</td>\n",
              "      <td>136.809368</td>\n",
              "      <td>0.887364</td>\n",
              "      <td>0.553377</td>\n",
              "    </tr>\n",
              "    <tr>\n",
              "      <th>std</th>\n",
              "      <td>9.432617</td>\n",
              "      <td>18.514154</td>\n",
              "      <td>109.384145</td>\n",
              "      <td>0.423046</td>\n",
              "      <td>25.460334</td>\n",
              "      <td>1.066570</td>\n",
              "      <td>0.497414</td>\n",
              "    </tr>\n",
              "    <tr>\n",
              "      <th>min</th>\n",
              "      <td>28.000000</td>\n",
              "      <td>0.000000</td>\n",
              "      <td>0.000000</td>\n",
              "      <td>0.000000</td>\n",
              "      <td>60.000000</td>\n",
              "      <td>-2.600000</td>\n",
              "      <td>0.000000</td>\n",
              "    </tr>\n",
              "    <tr>\n",
              "      <th>25%</th>\n",
              "      <td>47.000000</td>\n",
              "      <td>120.000000</td>\n",
              "      <td>173.250000</td>\n",
              "      <td>0.000000</td>\n",
              "      <td>120.000000</td>\n",
              "      <td>0.000000</td>\n",
              "      <td>0.000000</td>\n",
              "    </tr>\n",
              "    <tr>\n",
              "      <th>50%</th>\n",
              "      <td>54.000000</td>\n",
              "      <td>130.000000</td>\n",
              "      <td>223.000000</td>\n",
              "      <td>0.000000</td>\n",
              "      <td>138.000000</td>\n",
              "      <td>0.600000</td>\n",
              "      <td>1.000000</td>\n",
              "    </tr>\n",
              "    <tr>\n",
              "      <th>75%</th>\n",
              "      <td>60.000000</td>\n",
              "      <td>140.000000</td>\n",
              "      <td>267.000000</td>\n",
              "      <td>0.000000</td>\n",
              "      <td>156.000000</td>\n",
              "      <td>1.500000</td>\n",
              "      <td>1.000000</td>\n",
              "    </tr>\n",
              "    <tr>\n",
              "      <th>max</th>\n",
              "      <td>77.000000</td>\n",
              "      <td>200.000000</td>\n",
              "      <td>603.000000</td>\n",
              "      <td>1.000000</td>\n",
              "      <td>202.000000</td>\n",
              "      <td>6.200000</td>\n",
              "      <td>1.000000</td>\n",
              "    </tr>\n",
              "  </tbody>\n",
              "</table>\n",
              "</div>\n",
              "      <button class=\"colab-df-convert\" onclick=\"convertToInteractive('df-339bf8e8-819f-4d32-8672-d5d0e82f4ac3')\"\n",
              "              title=\"Convert this dataframe to an interactive table.\"\n",
              "              style=\"display:none;\">\n",
              "        \n",
              "  <svg xmlns=\"http://www.w3.org/2000/svg\" height=\"24px\"viewBox=\"0 0 24 24\"\n",
              "       width=\"24px\">\n",
              "    <path d=\"M0 0h24v24H0V0z\" fill=\"none\"/>\n",
              "    <path d=\"M18.56 5.44l.94 2.06.94-2.06 2.06-.94-2.06-.94-.94-2.06-.94 2.06-2.06.94zm-11 1L8.5 8.5l.94-2.06 2.06-.94-2.06-.94L8.5 2.5l-.94 2.06-2.06.94zm10 10l.94 2.06.94-2.06 2.06-.94-2.06-.94-.94-2.06-.94 2.06-2.06.94z\"/><path d=\"M17.41 7.96l-1.37-1.37c-.4-.4-.92-.59-1.43-.59-.52 0-1.04.2-1.43.59L10.3 9.45l-7.72 7.72c-.78.78-.78 2.05 0 2.83L4 21.41c.39.39.9.59 1.41.59.51 0 1.02-.2 1.41-.59l7.78-7.78 2.81-2.81c.8-.78.8-2.07 0-2.86zM5.41 20L4 18.59l7.72-7.72 1.47 1.35L5.41 20z\"/>\n",
              "  </svg>\n",
              "      </button>\n",
              "      \n",
              "  <style>\n",
              "    .colab-df-container {\n",
              "      display:flex;\n",
              "      flex-wrap:wrap;\n",
              "      gap: 12px;\n",
              "    }\n",
              "\n",
              "    .colab-df-convert {\n",
              "      background-color: #E8F0FE;\n",
              "      border: none;\n",
              "      border-radius: 50%;\n",
              "      cursor: pointer;\n",
              "      display: none;\n",
              "      fill: #1967D2;\n",
              "      height: 32px;\n",
              "      padding: 0 0 0 0;\n",
              "      width: 32px;\n",
              "    }\n",
              "\n",
              "    .colab-df-convert:hover {\n",
              "      background-color: #E2EBFA;\n",
              "      box-shadow: 0px 1px 2px rgba(60, 64, 67, 0.3), 0px 1px 3px 1px rgba(60, 64, 67, 0.15);\n",
              "      fill: #174EA6;\n",
              "    }\n",
              "\n",
              "    [theme=dark] .colab-df-convert {\n",
              "      background-color: #3B4455;\n",
              "      fill: #D2E3FC;\n",
              "    }\n",
              "\n",
              "    [theme=dark] .colab-df-convert:hover {\n",
              "      background-color: #434B5C;\n",
              "      box-shadow: 0px 1px 3px 1px rgba(0, 0, 0, 0.15);\n",
              "      filter: drop-shadow(0px 1px 2px rgba(0, 0, 0, 0.3));\n",
              "      fill: #FFFFFF;\n",
              "    }\n",
              "  </style>\n",
              "\n",
              "      <script>\n",
              "        const buttonEl =\n",
              "          document.querySelector('#df-339bf8e8-819f-4d32-8672-d5d0e82f4ac3 button.colab-df-convert');\n",
              "        buttonEl.style.display =\n",
              "          google.colab.kernel.accessAllowed ? 'block' : 'none';\n",
              "\n",
              "        async function convertToInteractive(key) {\n",
              "          const element = document.querySelector('#df-339bf8e8-819f-4d32-8672-d5d0e82f4ac3');\n",
              "          const dataTable =\n",
              "            await google.colab.kernel.invokeFunction('convertToInteractive',\n",
              "                                                     [key], {});\n",
              "          if (!dataTable) return;\n",
              "\n",
              "          const docLinkHtml = 'Like what you see? Visit the ' +\n",
              "            '<a target=\"_blank\" href=https://colab.research.google.com/notebooks/data_table.ipynb>data table notebook</a>'\n",
              "            + ' to learn more about interactive tables.';\n",
              "          element.innerHTML = '';\n",
              "          dataTable['output_type'] = 'display_data';\n",
              "          await google.colab.output.renderOutput(dataTable, element);\n",
              "          const docLink = document.createElement('div');\n",
              "          docLink.innerHTML = docLinkHtml;\n",
              "          element.appendChild(docLink);\n",
              "        }\n",
              "      </script>\n",
              "    </div>\n",
              "  </div>\n",
              "  "
            ]
          },
          "metadata": {},
          "execution_count": 66
        }
      ]
    },
    {
      "cell_type": "code",
      "source": [
        "df['Sex'] = df['Sex'].replace(['M','F'],['0','1'])\n",
        "df['ExerciseAngina'] = df['ExerciseAngina'].replace(['N','Y'],['0','1'])\n",
        "X = df[[\"Age\",\"Sex\",\"RestingBP\", \"Cholesterol\", \"FastingBS\", \"MaxHR\", \"ExerciseAngina\"]]\n",
        "Y = df.HeartDisease\n",
        "f1 = []\n",
        "accur = []\n",
        "precis = []\n",
        "rec = []"
      ],
      "metadata": {
        "id": "foONcAMqgZdC"
      },
      "execution_count": 67,
      "outputs": []
    },
    {
      "cell_type": "code",
      "source": [
        "X_train, X_test, y_train, y_test = train_test_split(X, Y, test_size = 0.5, train_size = 0.5)\n",
        "dt_clf = tree.DecisionTreeClassifier(criterion = \"gini\")\n",
        "\n",
        "clf_bagging = BaggingClassifier(base_estimator=dt_clf, n_estimators=50, oob_score=True)\n",
        "clf_bagging.fit(X_train, y_train)\n",
        "y_pred = clf_bagging.predict(X_test)\n",
        "\n",
        "f1.append(float(f1_score(y_test, y_pred,average='macro')))\n",
        "accur.append(float(accuracy_score(y_test, y_pred)))\n",
        "precis.append(float(precision_score(y_test, y_pred, average='macro')))\n",
        "rec.append(float(recall_score(y_test, y_pred, average='macro')))\n",
        "print(\"F-мера : \" , f1_score(y_test, y_pred,average='macro'))\n",
        "print(\"Аккуратность : \" , accuracy_score(y_test, y_pred))\n",
        "print(\"Точность : \" , precision_score(y_test, y_pred, average='macro'))\n",
        "print(\"Полнота : \" , recall_score(y_test, y_pred,average='macro'))"
      ],
      "metadata": {
        "colab": {
          "base_uri": "https://localhost:8080/"
        },
        "id": "R8E1KoLqgqe7",
        "outputId": "5458520e-bb50-4938-8f1a-cd532de5cb22"
      },
      "execution_count": 68,
      "outputs": [
        {
          "output_type": "stream",
          "name": "stdout",
          "text": [
            "F-мера :  0.7796235836374112\n",
            "Аккуратность :  0.7821350762527233\n",
            "Точность :  0.7793756475689781\n",
            "Полнота :  0.7799019607843137\n"
          ]
        }
      ]
    },
    {
      "cell_type": "code",
      "source": [
        "X_train, X_test, y_train, y_test = train_test_split(X, Y, test_size = 0.5, train_size = 0.5)\n",
        "dt_clf = tree.DecisionTreeClassifier(criterion = \"gini\")\n",
        "\n",
        "clf_bagging = BaggingClassifier(base_estimator=dt_clf, n_estimators=60, oob_score=True)\n",
        "clf_bagging.fit(X_train, y_train)\n",
        "y_pred = clf_bagging.predict(X_test)\n",
        "\n",
        "f1.append(float(f1_score(y_test, y_pred,average='macro')))\n",
        "accur.append(float(accuracy_score(y_test, y_pred)))\n",
        "precis.append(float(precision_score(y_test, y_pred, average='macro')))\n",
        "rec.append(float(recall_score(y_test, y_pred, average='macro')))\n",
        "print(\"F-мера : \" , f1_score(y_test, y_pred,average='macro'))\n",
        "print(\"Аккуратность : \" , accuracy_score(y_test, y_pred))\n",
        "print(\"Точность : \" , precision_score(y_test, y_pred, average='macro'))\n",
        "print(\"Полнота : \" , recall_score(y_test, y_pred,average='macro'))"
      ],
      "metadata": {
        "colab": {
          "base_uri": "https://localhost:8080/"
        },
        "id": "MHbX_fW-gxGv",
        "outputId": "7656d097-906c-4d4f-eba6-f968e72a0d8e"
      },
      "execution_count": 70,
      "outputs": [
        {
          "output_type": "stream",
          "name": "stdout",
          "text": [
            "F-мера :  0.743030888030888\n",
            "Аккуратность :  0.7472766884531591\n",
            "Точность :  0.7447843822843823\n",
            "Полнота :  0.7420107547532169\n"
          ]
        }
      ]
    },
    {
      "cell_type": "code",
      "source": [
        "X_train, X_test, y_train, y_test = train_test_split(X, Y, test_size = 0.5, train_size = 0.5)\n",
        "dt_clf = tree.DecisionTreeClassifier(criterion = \"gini\")\n",
        "\n",
        "clf_bagging = BaggingClassifier(base_estimator=dt_clf, n_estimators=70, oob_score=True)\n",
        "clf_bagging.fit(X_train, y_train)\n",
        "y_pred = clf_bagging.predict(X_test)\n",
        "\n",
        "f1.append(float(f1_score(y_test, y_pred,average='macro')))\n",
        "accur.append(float(accuracy_score(y_test, y_pred)))\n",
        "precis.append(float(precision_score(y_test, y_pred, average='macro')))\n",
        "rec.append(float(recall_score(y_test, y_pred, average='macro')))\n",
        "print(\"F-мера : \" , f1_score(y_test, y_pred,average='macro'))\n",
        "print(\"Аккуратность : \" , accuracy_score(y_test, y_pred))\n",
        "print(\"Точность : \" , precision_score(y_test, y_pred, average='macro'))\n",
        "print(\"Полнота : \" , recall_score(y_test, y_pred,average='macro'))"
      ],
      "metadata": {
        "colab": {
          "base_uri": "https://localhost:8080/"
        },
        "id": "PINWGxlVgxqZ",
        "outputId": "f36d1f4b-b96e-447c-ccf8-6bb902d1ab97"
      },
      "execution_count": 71,
      "outputs": [
        {
          "output_type": "stream",
          "name": "stdout",
          "text": [
            "F-мера :  0.7435203094777563\n",
            "Аккуратность :  0.7450980392156863\n",
            "Точность :  0.7431909212283044\n",
            "Полнота :  0.7440287081339714\n"
          ]
        }
      ]
    },
    {
      "cell_type": "code",
      "source": [
        "X_train, X_test, y_train, y_test = train_test_split(X, Y, test_size = 0.5, train_size = 0.5)\n",
        "dt_clf = tree.DecisionTreeClassifier(criterion = \"gini\")\n",
        "\n",
        "clf_bagging = BaggingClassifier(base_estimator=dt_clf, n_estimators=80, oob_score=True)\n",
        "clf_bagging.fit(X_train, y_train)\n",
        "y_pred = clf_bagging.predict(X_test)\n",
        "\n",
        "f1.append(float(f1_score(y_test, y_pred,average='macro')))\n",
        "accur.append(float(accuracy_score(y_test, y_pred)))\n",
        "precis.append(float(precision_score(y_test, y_pred, average='macro')))\n",
        "rec.append(float(recall_score(y_test, y_pred, average='macro')))\n",
        "print(\"F-мера : \" , f1_score(y_test, y_pred,average='macro'))\n",
        "print(\"Аккуратность : \" , accuracy_score(y_test, y_pred))\n",
        "print(\"Точность : \" , precision_score(y_test, y_pred, average='macro'))\n",
        "print(\"Полнота : \" , recall_score(y_test, y_pred,average='macro'))"
      ],
      "metadata": {
        "colab": {
          "base_uri": "https://localhost:8080/"
        },
        "id": "KtXTxFj8gyI2",
        "outputId": "f630212a-7e6b-4081-fc88-2a046857c637"
      },
      "execution_count": 72,
      "outputs": [
        {
          "output_type": "stream",
          "name": "stdout",
          "text": [
            "F-мера :  0.7742971190558834\n",
            "Аккуратность :  0.7777777777777778\n",
            "Точность :  0.7728055077452668\n",
            "Полнота :  0.7782654494382022\n"
          ]
        }
      ]
    },
    {
      "cell_type": "code",
      "source": [
        "X_train, X_test, y_train, y_test = train_test_split(X, Y, test_size = 0.5, train_size = 0.5)\n",
        "dt_clf = tree.DecisionTreeClassifier(criterion = \"gini\")\n",
        "\n",
        "clf_bagging = BaggingClassifier(base_estimator=dt_clf, n_estimators=90, oob_score=True)\n",
        "clf_bagging.fit(X_train, y_train)\n",
        "y_pred = clf_bagging.predict(X_test)\n",
        "\n",
        "f1.append(float(f1_score(y_test, y_pred,average='macro')))\n",
        "accur.append(float(accuracy_score(y_test, y_pred)))\n",
        "precis.append(float(precision_score(y_test, y_pred, average='macro')))\n",
        "rec.append(float(recall_score(y_test, y_pred, average='macro')))\n",
        "print(\"F-мера : \" , f1_score(y_test, y_pred,average='macro'))\n",
        "print(\"Аккуратность : \" , accuracy_score(y_test, y_pred))\n",
        "print(\"Точность : \" , precision_score(y_test, y_pred, average='macro'))\n",
        "print(\"Полнота : \" , recall_score(y_test, y_pred,average='macro'))"
      ],
      "metadata": {
        "colab": {
          "base_uri": "https://localhost:8080/"
        },
        "id": "iwJqfuD_gyq9",
        "outputId": "5d82a1a1-a4f5-440b-d932-e34d1bbd9171"
      },
      "execution_count": 73,
      "outputs": [
        {
          "output_type": "stream",
          "name": "stdout",
          "text": [
            "F-мера :  0.7726815945994029\n",
            "Аккуратность :  0.775599128540305\n",
            "Точность :  0.7750997791296934\n",
            "Полнота :  0.7715433161216294\n"
          ]
        }
      ]
    },
    {
      "cell_type": "code",
      "source": [
        "X_train, X_test, y_train, y_test = train_test_split(X, Y, test_size = 0.5, train_size = 0.5)\n",
        "dt_clf = tree.DecisionTreeClassifier(criterion = \"gini\")\n",
        "\n",
        "clf_bagging = BaggingClassifier(base_estimator=dt_clf, n_estimators=100, oob_score=True)\n",
        "clf_bagging.fit(X_train, y_train)\n",
        "y_pred = clf_bagging.predict(X_test)\n",
        "\n",
        "f1.append(float(f1_score(y_test, y_pred,average='macro')))\n",
        "accur.append(float(accuracy_score(y_test, y_pred)))\n",
        "precis.append(float(precision_score(y_test, y_pred, average='macro')))\n",
        "rec.append(float(recall_score(y_test, y_pred, average='macro')))\n",
        "print(\"F-мера : \" , f1_score(y_test, y_pred,average='macro'))\n",
        "print(\"Аккуратность : \" , accuracy_score(y_test, y_pred))\n",
        "print(\"Точность : \" , precision_score(y_test, y_pred, average='macro'))\n",
        "print(\"Полнота : \" , recall_score(y_test, y_pred,average='macro'))"
      ],
      "metadata": {
        "colab": {
          "base_uri": "https://localhost:8080/"
        },
        "id": "TYMYJ9Fjg6GI",
        "outputId": "696d0a8f-3cf8-448c-823a-767d79c8d55c"
      },
      "execution_count": 74,
      "outputs": [
        {
          "output_type": "stream",
          "name": "stdout",
          "text": [
            "F-мера :  0.7578757276939526\n",
            "Аккуратность :  0.7581699346405228\n",
            "Точность :  0.7601208803740449\n",
            "Полнота :  0.7625964158256264\n"
          ]
        }
      ]
    },
    {
      "cell_type": "code",
      "source": [
        "plt.bar(names, f1)\n",
        "plt.xlabel(\"количество участников ансамбля\")\n",
        "plt.ylabel(\"F-мера\")\n",
        "plt.show()\n",
        "plt.bar(names, accur)\n",
        "plt.xlabel(\"количество участников ансамбля\")\n",
        "plt.ylabel(\"аккуратность\")\n",
        "plt.show()\n",
        "plt.bar(names, precis)\n",
        "plt.xlabel(\"количество участников ансамбля\")\n",
        "plt.ylabel(\"точность\")\n",
        "plt.show()\n",
        "plt.bar(names, rec)\n",
        "plt.xlabel(\"количество участников ансамбля\")\n",
        "plt.ylabel(\"полнота\")\n",
        "plt.show()"
      ],
      "metadata": {
        "colab": {
          "base_uri": "https://localhost:8080/",
          "height": 1000
        },
        "id": "qcCSn080g7oZ",
        "outputId": "53058ae4-041b-4307-cff3-2c2c889df639"
      },
      "execution_count": 75,
      "outputs": [
        {
          "output_type": "display_data",
          "data": {
            "text/plain": [
              "<Figure size 432x288 with 1 Axes>"
            ],
            "image/png": "[encoded data removed]"
          },
          "metadata": {
            "needs_background": "light"
          }
        },
        {
          "output_type": "display_data",
          "data": {
            "text/plain": [
              "<Figure size 432x288 with 1 Axes>"
            ],
            "image/png": "[encoded data removed]"
          },
          "metadata": {
            "needs_background": "light"
          }
        },
        {
          "output_type": "display_data",
          "data": {
            "text/plain": [
              "<Figure size 432x288 with 1 Axes>"
            ],
            "image/png": "[encoded data removed]"
          },
          "metadata": {
            "needs_background": "light"
          }
        },
        {
          "output_type": "display_data",
          "data": {
            "text/plain": [
              "<Figure size 432x288 with 1 Axes>"
            ],
            "image/png": "[encoded data removed]"
          },
          "metadata": {
            "needs_background": "light"
          }
        }
      ]
    }
  ]
}